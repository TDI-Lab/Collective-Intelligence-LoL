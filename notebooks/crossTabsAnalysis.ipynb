{
 "cells": [
  {
   "cell_type": "code",
   "execution_count": 1,
   "metadata": {},
   "outputs": [],
   "source": [
    "import pandas as pd\n",
    "import matplotlib.pyplot as plt"
   ]
  },
  {
   "cell_type": "code",
   "execution_count": 2,
   "metadata": {},
   "outputs": [
    {
     "name": "stdout",
     "output_type": "stream",
     "text": [
      "(310550, 25)\n"
     ]
    },
    {
     "data": {
      "text/html": [
       "<div>\n",
       "<style scoped>\n",
       "    .dataframe tbody tr th:only-of-type {\n",
       "        vertical-align: middle;\n",
       "    }\n",
       "\n",
       "    .dataframe tbody tr th {\n",
       "        vertical-align: top;\n",
       "    }\n",
       "\n",
       "    .dataframe thead th {\n",
       "        text-align: right;\n",
       "    }\n",
       "</style>\n",
       "<table border=\"1\" class=\"dataframe\">\n",
       "  <thead>\n",
       "    <tr style=\"text-align: right;\">\n",
       "      <th></th>\n",
       "      <th>gameId</th>\n",
       "      <th>teamId</th>\n",
       "      <th>teamPosition</th>\n",
       "      <th>win</th>\n",
       "      <th>playerNumericalRank</th>\n",
       "      <th>goldEarned</th>\n",
       "      <th>playerGoldPerMin</th>\n",
       "      <th>champExperience</th>\n",
       "      <th>playerExpPerMin</th>\n",
       "      <th>kills</th>\n",
       "      <th>...</th>\n",
       "      <th>visionScore</th>\n",
       "      <th>playerVisionScorePerMin</th>\n",
       "      <th>totalMinionsKilled</th>\n",
       "      <th>playerMinionsKilledPerMin</th>\n",
       "      <th>playerTotalIndegree</th>\n",
       "      <th>playerTotalOutdegree</th>\n",
       "      <th>AcquiringFactor</th>\n",
       "      <th>SharingFactor</th>\n",
       "      <th>individual_labels</th>\n",
       "      <th>isGoodPlayer</th>\n",
       "    </tr>\n",
       "  </thead>\n",
       "  <tbody>\n",
       "    <tr>\n",
       "      <th>0</th>\n",
       "      <td>EUW1_7139824479</td>\n",
       "      <td>100</td>\n",
       "      <td>TOP</td>\n",
       "      <td>0</td>\n",
       "      <td>4</td>\n",
       "      <td>10434</td>\n",
       "      <td>335.678284</td>\n",
       "      <td>15998</td>\n",
       "      <td>514.680965</td>\n",
       "      <td>3</td>\n",
       "      <td>...</td>\n",
       "      <td>30</td>\n",
       "      <td>0.965147</td>\n",
       "      <td>149</td>\n",
       "      <td>4.793566</td>\n",
       "      <td>8</td>\n",
       "      <td>15</td>\n",
       "      <td>-0.773508</td>\n",
       "      <td>-0.220719</td>\n",
       "      <td>3</td>\n",
       "      <td>False</td>\n",
       "    </tr>\n",
       "    <tr>\n",
       "      <th>1</th>\n",
       "      <td>EUW1_7139824479</td>\n",
       "      <td>100</td>\n",
       "      <td>JUNGLE</td>\n",
       "      <td>0</td>\n",
       "      <td>4</td>\n",
       "      <td>11754</td>\n",
       "      <td>378.144772</td>\n",
       "      <td>12801</td>\n",
       "      <td>411.828418</td>\n",
       "      <td>5</td>\n",
       "      <td>...</td>\n",
       "      <td>25</td>\n",
       "      <td>0.804290</td>\n",
       "      <td>21</td>\n",
       "      <td>0.675603</td>\n",
       "      <td>14</td>\n",
       "      <td>18</td>\n",
       "      <td>-0.264876</td>\n",
       "      <td>-0.238105</td>\n",
       "      <td>0</td>\n",
       "      <td>True</td>\n",
       "    </tr>\n",
       "    <tr>\n",
       "      <th>2</th>\n",
       "      <td>EUW1_7139824479</td>\n",
       "      <td>100</td>\n",
       "      <td>MIDDLE</td>\n",
       "      <td>0</td>\n",
       "      <td>3</td>\n",
       "      <td>14008</td>\n",
       "      <td>450.659517</td>\n",
       "      <td>16812</td>\n",
       "      <td>540.868633</td>\n",
       "      <td>8</td>\n",
       "      <td>...</td>\n",
       "      <td>27</td>\n",
       "      <td>0.868633</td>\n",
       "      <td>224</td>\n",
       "      <td>7.206434</td>\n",
       "      <td>17</td>\n",
       "      <td>13</td>\n",
       "      <td>0.680857</td>\n",
       "      <td>0.011135</td>\n",
       "      <td>0</td>\n",
       "      <td>True</td>\n",
       "    </tr>\n",
       "    <tr>\n",
       "      <th>3</th>\n",
       "      <td>EUW1_7139824479</td>\n",
       "      <td>100</td>\n",
       "      <td>BOTTOM</td>\n",
       "      <td>0</td>\n",
       "      <td>5</td>\n",
       "      <td>13199</td>\n",
       "      <td>424.632708</td>\n",
       "      <td>13664</td>\n",
       "      <td>439.592493</td>\n",
       "      <td>9</td>\n",
       "      <td>...</td>\n",
       "      <td>5</td>\n",
       "      <td>0.160858</td>\n",
       "      <td>162</td>\n",
       "      <td>5.211796</td>\n",
       "      <td>26</td>\n",
       "      <td>7</td>\n",
       "      <td>0.128600</td>\n",
       "      <td>-1.045854</td>\n",
       "      <td>0</td>\n",
       "      <td>True</td>\n",
       "    </tr>\n",
       "    <tr>\n",
       "      <th>4</th>\n",
       "      <td>EUW1_7139824479</td>\n",
       "      <td>100</td>\n",
       "      <td>UTILITY</td>\n",
       "      <td>0</td>\n",
       "      <td>4</td>\n",
       "      <td>7658</td>\n",
       "      <td>246.369973</td>\n",
       "      <td>9087</td>\n",
       "      <td>292.343164</td>\n",
       "      <td>2</td>\n",
       "      <td>...</td>\n",
       "      <td>57</td>\n",
       "      <td>1.833780</td>\n",
       "      <td>25</td>\n",
       "      <td>0.804290</td>\n",
       "      <td>3</td>\n",
       "      <td>15</td>\n",
       "      <td>-1.656852</td>\n",
       "      <td>0.776635</td>\n",
       "      <td>1</td>\n",
       "      <td>False</td>\n",
       "    </tr>\n",
       "  </tbody>\n",
       "</table>\n",
       "<p>5 rows × 25 columns</p>\n",
       "</div>"
      ],
      "text/plain": [
       "            gameId  teamId teamPosition  win  playerNumericalRank  goldEarned  \\\n",
       "0  EUW1_7139824479     100          TOP    0                    4       10434   \n",
       "1  EUW1_7139824479     100       JUNGLE    0                    4       11754   \n",
       "2  EUW1_7139824479     100       MIDDLE    0                    3       14008   \n",
       "3  EUW1_7139824479     100       BOTTOM    0                    5       13199   \n",
       "4  EUW1_7139824479     100      UTILITY    0                    4        7658   \n",
       "\n",
       "   playerGoldPerMin  champExperience  playerExpPerMin  kills  ...  \\\n",
       "0        335.678284            15998       514.680965      3  ...   \n",
       "1        378.144772            12801       411.828418      5  ...   \n",
       "2        450.659517            16812       540.868633      8  ...   \n",
       "3        424.632708            13664       439.592493      9  ...   \n",
       "4        246.369973             9087       292.343164      2  ...   \n",
       "\n",
       "   visionScore  playerVisionScorePerMin  totalMinionsKilled  \\\n",
       "0           30                 0.965147                 149   \n",
       "1           25                 0.804290                  21   \n",
       "2           27                 0.868633                 224   \n",
       "3            5                 0.160858                 162   \n",
       "4           57                 1.833780                  25   \n",
       "\n",
       "   playerMinionsKilledPerMin  playerTotalIndegree  playerTotalOutdegree  \\\n",
       "0                   4.793566                    8                    15   \n",
       "1                   0.675603                   14                    18   \n",
       "2                   7.206434                   17                    13   \n",
       "3                   5.211796                   26                     7   \n",
       "4                   0.804290                    3                    15   \n",
       "\n",
       "   AcquiringFactor  SharingFactor  individual_labels  isGoodPlayer  \n",
       "0        -0.773508      -0.220719                  3         False  \n",
       "1        -0.264876      -0.238105                  0          True  \n",
       "2         0.680857       0.011135                  0          True  \n",
       "3         0.128600      -1.045854                  0          True  \n",
       "4        -1.656852       0.776635                  1         False  \n",
       "\n",
       "[5 rows x 25 columns]"
      ]
     },
     "execution_count": 2,
     "metadata": {},
     "output_type": "execute_result"
    }
   ],
   "source": [
    "individualLabels = pd.read_csv('../dataset/individual_factor_and_labels.csv', header=0)\n",
    "print(individualLabels.shape)\n",
    "individualLabels.head()"
   ]
  },
  {
   "cell_type": "markdown",
   "metadata": {},
   "source": [
    "### Distribution of good and bad individual players"
   ]
  },
  {
   "cell_type": "code",
   "execution_count": 3,
   "metadata": {},
   "outputs": [
    {
     "data": {
      "text/plain": [
       "isGoodPlayer\n",
       "True     175227\n",
       "False    135323\n",
       "Name: count, dtype: int64"
      ]
     },
     "execution_count": 3,
     "metadata": {},
     "output_type": "execute_result"
    }
   ],
   "source": [
    "individualLabels['isGoodPlayer'].value_counts()"
   ]
  },
  {
   "cell_type": "markdown",
   "metadata": {},
   "source": [
    "### How often do good players win or lose the game"
   ]
  },
  {
   "cell_type": "code",
   "execution_count": 4,
   "metadata": {},
   "outputs": [
    {
     "data": {
      "text/plain": [
       "win\n",
       "1    109958\n",
       "0     65269\n",
       "Name: count, dtype: int64"
      ]
     },
     "execution_count": 4,
     "metadata": {},
     "output_type": "execute_result"
    }
   ],
   "source": [
    "individualLabels[individualLabels['isGoodPlayer'] == 1]['win'].value_counts()"
   ]
  },
  {
   "cell_type": "markdown",
   "metadata": {},
   "source": [
    "### How often do bad players win or lose the game"
   ]
  },
  {
   "cell_type": "code",
   "execution_count": 5,
   "metadata": {},
   "outputs": [
    {
     "data": {
      "text/plain": [
       "win\n",
       "0    90006\n",
       "1    45317\n",
       "Name: count, dtype: int64"
      ]
     },
     "execution_count": 5,
     "metadata": {},
     "output_type": "execute_result"
    }
   ],
   "source": [
    "individualLabels[individualLabels['isGoodPlayer'] == 0]['win'].value_counts()"
   ]
  },
  {
   "cell_type": "code",
   "execution_count": 6,
   "metadata": {},
   "outputs": [
    {
     "name": "stdout",
     "output_type": "stream",
     "text": [
      "(62110, 13)\n"
     ]
    },
    {
     "data": {
      "text/html": [
       "<div>\n",
       "<style scoped>\n",
       "    .dataframe tbody tr th:only-of-type {\n",
       "        vertical-align: middle;\n",
       "    }\n",
       "\n",
       "    .dataframe tbody tr th {\n",
       "        vertical-align: top;\n",
       "    }\n",
       "\n",
       "    .dataframe thead th {\n",
       "        text-align: right;\n",
       "    }\n",
       "</style>\n",
       "<table border=\"1\" class=\"dataframe\">\n",
       "  <thead>\n",
       "    <tr style=\"text-align: right;\">\n",
       "      <th></th>\n",
       "      <th>gameId</th>\n",
       "      <th>teamId</th>\n",
       "      <th>win</th>\n",
       "      <th>averageTeamExpPerMin</th>\n",
       "      <th>averageTeamGoldPerMin</th>\n",
       "      <th>averageTeamVPM</th>\n",
       "      <th>teamIndegreeCentrality</th>\n",
       "      <th>teamOutdegreeCentrality</th>\n",
       "      <th>resistance</th>\n",
       "      <th>CooperativeFactor</th>\n",
       "      <th>NonCooperativeFactor</th>\n",
       "      <th>team_labels</th>\n",
       "      <th>isGoodTeam</th>\n",
       "    </tr>\n",
       "  </thead>\n",
       "  <tbody>\n",
       "    <tr>\n",
       "      <th>0</th>\n",
       "      <td>EUW1_7139824479</td>\n",
       "      <td>100</td>\n",
       "      <td>0</td>\n",
       "      <td>439.862735</td>\n",
       "      <td>367.2</td>\n",
       "      <td>0.926542</td>\n",
       "      <td>0.227941</td>\n",
       "      <td>0.080882</td>\n",
       "      <td>0.6500</td>\n",
       "      <td>0.731456</td>\n",
       "      <td>-0.738828</td>\n",
       "      <td>0</td>\n",
       "      <td>False</td>\n",
       "    </tr>\n",
       "    <tr>\n",
       "      <th>1</th>\n",
       "      <td>EUW1_7139824479</td>\n",
       "      <td>200</td>\n",
       "      <td>1</td>\n",
       "      <td>451.058445</td>\n",
       "      <td>387.8</td>\n",
       "      <td>0.701340</td>\n",
       "      <td>0.204545</td>\n",
       "      <td>0.172078</td>\n",
       "      <td>0.5907</td>\n",
       "      <td>0.201695</td>\n",
       "      <td>-0.065562</td>\n",
       "      <td>2</td>\n",
       "      <td>True</td>\n",
       "    </tr>\n",
       "    <tr>\n",
       "      <th>2</th>\n",
       "      <td>EUW1_7140549083</td>\n",
       "      <td>100</td>\n",
       "      <td>0</td>\n",
       "      <td>416.710163</td>\n",
       "      <td>380.4</td>\n",
       "      <td>0.971142</td>\n",
       "      <td>0.240196</td>\n",
       "      <td>0.142157</td>\n",
       "      <td>1.0599</td>\n",
       "      <td>0.419814</td>\n",
       "      <td>0.016391</td>\n",
       "      <td>0</td>\n",
       "      <td>False</td>\n",
       "    </tr>\n",
       "    <tr>\n",
       "      <th>3</th>\n",
       "      <td>EUW1_7140549083</td>\n",
       "      <td>200</td>\n",
       "      <td>1</td>\n",
       "      <td>544.592221</td>\n",
       "      <td>500.6</td>\n",
       "      <td>1.069009</td>\n",
       "      <td>0.174757</td>\n",
       "      <td>0.065534</td>\n",
       "      <td>0.4496</td>\n",
       "      <td>-2.502744</td>\n",
       "      <td>-0.102221</td>\n",
       "      <td>1</td>\n",
       "      <td>True</td>\n",
       "    </tr>\n",
       "    <tr>\n",
       "      <th>4</th>\n",
       "      <td>EUW1_7139855952</td>\n",
       "      <td>100</td>\n",
       "      <td>1</td>\n",
       "      <td>497.323814</td>\n",
       "      <td>423.4</td>\n",
       "      <td>1.199388</td>\n",
       "      <td>0.173729</td>\n",
       "      <td>0.067797</td>\n",
       "      <td>1.0129</td>\n",
       "      <td>-0.656660</td>\n",
       "      <td>-0.414528</td>\n",
       "      <td>2</td>\n",
       "      <td>True</td>\n",
       "    </tr>\n",
       "  </tbody>\n",
       "</table>\n",
       "</div>"
      ],
      "text/plain": [
       "            gameId  teamId  win  averageTeamExpPerMin  averageTeamGoldPerMin  \\\n",
       "0  EUW1_7139824479     100    0            439.862735                  367.2   \n",
       "1  EUW1_7139824479     200    1            451.058445                  387.8   \n",
       "2  EUW1_7140549083     100    0            416.710163                  380.4   \n",
       "3  EUW1_7140549083     200    1            544.592221                  500.6   \n",
       "4  EUW1_7139855952     100    1            497.323814                  423.4   \n",
       "\n",
       "   averageTeamVPM  teamIndegreeCentrality  teamOutdegreeCentrality  \\\n",
       "0        0.926542                0.227941                 0.080882   \n",
       "1        0.701340                0.204545                 0.172078   \n",
       "2        0.971142                0.240196                 0.142157   \n",
       "3        1.069009                0.174757                 0.065534   \n",
       "4        1.199388                0.173729                 0.067797   \n",
       "\n",
       "   resistance  CooperativeFactor  NonCooperativeFactor  team_labels  \\\n",
       "0      0.6500           0.731456             -0.738828            0   \n",
       "1      0.5907           0.201695             -0.065562            2   \n",
       "2      1.0599           0.419814              0.016391            0   \n",
       "3      0.4496          -2.502744             -0.102221            1   \n",
       "4      1.0129          -0.656660             -0.414528            2   \n",
       "\n",
       "   isGoodTeam  \n",
       "0       False  \n",
       "1        True  \n",
       "2       False  \n",
       "3        True  \n",
       "4        True  "
      ]
     },
     "execution_count": 6,
     "metadata": {},
     "output_type": "execute_result"
    }
   ],
   "source": [
    "teamLabels = pd.read_csv('../dataset/team_factor_and_labels.csv', header=0)\n",
    "print(teamLabels.shape)\n",
    "teamLabels.head()"
   ]
  },
  {
   "cell_type": "markdown",
   "metadata": {},
   "source": [
    "### Distribution of good and bad team"
   ]
  },
  {
   "cell_type": "code",
   "execution_count": 7,
   "metadata": {},
   "outputs": [
    {
     "data": {
      "text/plain": [
       "isGoodTeam\n",
       "True     38390\n",
       "False    23720\n",
       "Name: count, dtype: int64"
      ]
     },
     "execution_count": 7,
     "metadata": {},
     "output_type": "execute_result"
    }
   ],
   "source": [
    "teamLabels['isGoodTeam'].value_counts()"
   ]
  },
  {
   "cell_type": "markdown",
   "metadata": {},
   "source": [
    "### How often do good teams win or lose, out of those 38.3K good teams"
   ]
  },
  {
   "cell_type": "code",
   "execution_count": 8,
   "metadata": {},
   "outputs": [
    {
     "data": {
      "text/plain": [
       "win\n",
       "1    29951\n",
       "0     8439\n",
       "Name: count, dtype: int64"
      ]
     },
     "execution_count": 8,
     "metadata": {},
     "output_type": "execute_result"
    }
   ],
   "source": [
    "teamLabels[teamLabels['isGoodTeam'] == 1]['win'].value_counts()"
   ]
  },
  {
   "cell_type": "markdown",
   "metadata": {},
   "source": [
    "### How often do bad teams win or lose, out of those 23.2K bad teams"
   ]
  },
  {
   "cell_type": "code",
   "execution_count": 9,
   "metadata": {},
   "outputs": [
    {
     "data": {
      "text/plain": [
       "win\n",
       "0    22616\n",
       "1     1104\n",
       "Name: count, dtype: int64"
      ]
     },
     "execution_count": 9,
     "metadata": {},
     "output_type": "execute_result"
    }
   ],
   "source": [
    "teamLabels[teamLabels['isGoodTeam'] == 0]['win'].value_counts()"
   ]
  },
  {
   "cell_type": "code",
   "execution_count": 10,
   "metadata": {},
   "outputs": [
    {
     "name": "stdout",
     "output_type": "stream",
     "text": [
      "(310550, 14)\n"
     ]
    },
    {
     "data": {
      "text/html": [
       "<div>\n",
       "<style scoped>\n",
       "    .dataframe tbody tr th:only-of-type {\n",
       "        vertical-align: middle;\n",
       "    }\n",
       "\n",
       "    .dataframe tbody tr th {\n",
       "        vertical-align: top;\n",
       "    }\n",
       "\n",
       "    .dataframe thead th {\n",
       "        text-align: right;\n",
       "    }\n",
       "</style>\n",
       "<table border=\"1\" class=\"dataframe\">\n",
       "  <thead>\n",
       "    <tr style=\"text-align: right;\">\n",
       "      <th></th>\n",
       "      <th>gameId</th>\n",
       "      <th>teamId</th>\n",
       "      <th>teamPosition</th>\n",
       "      <th>win</th>\n",
       "      <th>playerNumericalRank</th>\n",
       "      <th>AcquiringFactor</th>\n",
       "      <th>SharingFactor</th>\n",
       "      <th>isGoodPlayer</th>\n",
       "      <th>teamIndegreeCentrality</th>\n",
       "      <th>teamOutdegreeCentrality</th>\n",
       "      <th>resistance</th>\n",
       "      <th>CooperativeFactor</th>\n",
       "      <th>NonCooperativeFactor</th>\n",
       "      <th>isGoodTeam</th>\n",
       "    </tr>\n",
       "  </thead>\n",
       "  <tbody>\n",
       "    <tr>\n",
       "      <th>0</th>\n",
       "      <td>EUW1_7139824479</td>\n",
       "      <td>100</td>\n",
       "      <td>TOP</td>\n",
       "      <td>0</td>\n",
       "      <td>4</td>\n",
       "      <td>-0.773508</td>\n",
       "      <td>-0.220719</td>\n",
       "      <td>False</td>\n",
       "      <td>0.227941</td>\n",
       "      <td>0.080882</td>\n",
       "      <td>0.65</td>\n",
       "      <td>0.731456</td>\n",
       "      <td>-0.738828</td>\n",
       "      <td>False</td>\n",
       "    </tr>\n",
       "    <tr>\n",
       "      <th>1</th>\n",
       "      <td>EUW1_7139824479</td>\n",
       "      <td>100</td>\n",
       "      <td>JUNGLE</td>\n",
       "      <td>0</td>\n",
       "      <td>4</td>\n",
       "      <td>-0.264876</td>\n",
       "      <td>-0.238105</td>\n",
       "      <td>True</td>\n",
       "      <td>0.227941</td>\n",
       "      <td>0.080882</td>\n",
       "      <td>0.65</td>\n",
       "      <td>0.731456</td>\n",
       "      <td>-0.738828</td>\n",
       "      <td>False</td>\n",
       "    </tr>\n",
       "    <tr>\n",
       "      <th>2</th>\n",
       "      <td>EUW1_7139824479</td>\n",
       "      <td>100</td>\n",
       "      <td>MIDDLE</td>\n",
       "      <td>0</td>\n",
       "      <td>3</td>\n",
       "      <td>0.680857</td>\n",
       "      <td>0.011135</td>\n",
       "      <td>True</td>\n",
       "      <td>0.227941</td>\n",
       "      <td>0.080882</td>\n",
       "      <td>0.65</td>\n",
       "      <td>0.731456</td>\n",
       "      <td>-0.738828</td>\n",
       "      <td>False</td>\n",
       "    </tr>\n",
       "    <tr>\n",
       "      <th>3</th>\n",
       "      <td>EUW1_7139824479</td>\n",
       "      <td>100</td>\n",
       "      <td>BOTTOM</td>\n",
       "      <td>0</td>\n",
       "      <td>5</td>\n",
       "      <td>0.128600</td>\n",
       "      <td>-1.045854</td>\n",
       "      <td>True</td>\n",
       "      <td>0.227941</td>\n",
       "      <td>0.080882</td>\n",
       "      <td>0.65</td>\n",
       "      <td>0.731456</td>\n",
       "      <td>-0.738828</td>\n",
       "      <td>False</td>\n",
       "    </tr>\n",
       "    <tr>\n",
       "      <th>4</th>\n",
       "      <td>EUW1_7139824479</td>\n",
       "      <td>100</td>\n",
       "      <td>UTILITY</td>\n",
       "      <td>0</td>\n",
       "      <td>4</td>\n",
       "      <td>-1.656852</td>\n",
       "      <td>0.776635</td>\n",
       "      <td>False</td>\n",
       "      <td>0.227941</td>\n",
       "      <td>0.080882</td>\n",
       "      <td>0.65</td>\n",
       "      <td>0.731456</td>\n",
       "      <td>-0.738828</td>\n",
       "      <td>False</td>\n",
       "    </tr>\n",
       "  </tbody>\n",
       "</table>\n",
       "</div>"
      ],
      "text/plain": [
       "            gameId  teamId teamPosition  win  playerNumericalRank  \\\n",
       "0  EUW1_7139824479     100          TOP    0                    4   \n",
       "1  EUW1_7139824479     100       JUNGLE    0                    4   \n",
       "2  EUW1_7139824479     100       MIDDLE    0                    3   \n",
       "3  EUW1_7139824479     100       BOTTOM    0                    5   \n",
       "4  EUW1_7139824479     100      UTILITY    0                    4   \n",
       "\n",
       "   AcquiringFactor  SharingFactor  isGoodPlayer  teamIndegreeCentrality  \\\n",
       "0        -0.773508      -0.220719         False                0.227941   \n",
       "1        -0.264876      -0.238105          True                0.227941   \n",
       "2         0.680857       0.011135          True                0.227941   \n",
       "3         0.128600      -1.045854          True                0.227941   \n",
       "4        -1.656852       0.776635         False                0.227941   \n",
       "\n",
       "   teamOutdegreeCentrality  resistance  CooperativeFactor  \\\n",
       "0                 0.080882        0.65           0.731456   \n",
       "1                 0.080882        0.65           0.731456   \n",
       "2                 0.080882        0.65           0.731456   \n",
       "3                 0.080882        0.65           0.731456   \n",
       "4                 0.080882        0.65           0.731456   \n",
       "\n",
       "   NonCooperativeFactor  isGoodTeam  \n",
       "0             -0.738828       False  \n",
       "1             -0.738828       False  \n",
       "2             -0.738828       False  \n",
       "3             -0.738828       False  \n",
       "4             -0.738828       False  "
      ]
     },
     "execution_count": 10,
     "metadata": {},
     "output_type": "execute_result"
    }
   ],
   "source": [
    "# selective features for individual and team data\n",
    "individualData = individualLabels[['gameId', 'teamId', 'teamPosition', 'win', 'playerNumericalRank', 'AcquiringFactor', 'SharingFactor', 'isGoodPlayer']]\n",
    "teamData = teamLabels[['gameId', 'teamId', 'win', 'teamIndegreeCentrality', 'teamOutdegreeCentrality', 'resistance', 'CooperativeFactor', 'NonCooperativeFactor', 'isGoodTeam']]\n",
    "\n",
    "individualInTeamLabels = individualData.merge(teamData, on=['gameId', 'teamId', 'win'], how='inner')\n",
    "print(individualInTeamLabels.shape)\n",
    "\n",
    "individualInTeamLabels.head()\n"
   ]
  },
  {
   "cell_type": "code",
   "execution_count": 11,
   "metadata": {},
   "outputs": [
    {
     "data": {
      "text/plain": [
       "isGoodPlayer\n",
       "True     175227\n",
       "False    135323\n",
       "Name: count, dtype: int64"
      ]
     },
     "execution_count": 11,
     "metadata": {},
     "output_type": "execute_result"
    }
   ],
   "source": [
    "individualInTeamLabels['isGoodPlayer'].value_counts()"
   ]
  },
  {
   "cell_type": "code",
   "execution_count": 12,
   "metadata": {},
   "outputs": [
    {
     "data": {
      "text/html": [
       "<div>\n",
       "<style scoped>\n",
       "    .dataframe tbody tr th:only-of-type {\n",
       "        vertical-align: middle;\n",
       "    }\n",
       "\n",
       "    .dataframe tbody tr th {\n",
       "        vertical-align: top;\n",
       "    }\n",
       "\n",
       "    .dataframe thead th {\n",
       "        text-align: right;\n",
       "    }\n",
       "</style>\n",
       "<table border=\"1\" class=\"dataframe\">\n",
       "  <thead>\n",
       "    <tr style=\"text-align: right;\">\n",
       "      <th></th>\n",
       "      <th>gameId</th>\n",
       "      <th>teamId</th>\n",
       "      <th>goodPlayersCountInTeam</th>\n",
       "      <th>majorityGoodPlayers</th>\n",
       "    </tr>\n",
       "  </thead>\n",
       "  <tbody>\n",
       "    <tr>\n",
       "      <th>0</th>\n",
       "      <td>EUN1_3674082346</td>\n",
       "      <td>100</td>\n",
       "      <td>4</td>\n",
       "      <td>True</td>\n",
       "    </tr>\n",
       "    <tr>\n",
       "      <th>1</th>\n",
       "      <td>EUN1_3674396954</td>\n",
       "      <td>200</td>\n",
       "      <td>2</td>\n",
       "      <td>False</td>\n",
       "    </tr>\n",
       "    <tr>\n",
       "      <th>2</th>\n",
       "      <td>EUN1_3674432138</td>\n",
       "      <td>200</td>\n",
       "      <td>3</td>\n",
       "      <td>True</td>\n",
       "    </tr>\n",
       "    <tr>\n",
       "      <th>3</th>\n",
       "      <td>EUN1_3674441883</td>\n",
       "      <td>100</td>\n",
       "      <td>3</td>\n",
       "      <td>True</td>\n",
       "    </tr>\n",
       "    <tr>\n",
       "      <th>4</th>\n",
       "      <td>EUN1_3674441883</td>\n",
       "      <td>200</td>\n",
       "      <td>3</td>\n",
       "      <td>True</td>\n",
       "    </tr>\n",
       "    <tr>\n",
       "      <th>...</th>\n",
       "      <td>...</td>\n",
       "      <td>...</td>\n",
       "      <td>...</td>\n",
       "      <td>...</td>\n",
       "    </tr>\n",
       "    <tr>\n",
       "      <th>38385</th>\n",
       "      <td>TR1_1557321820</td>\n",
       "      <td>100</td>\n",
       "      <td>4</td>\n",
       "      <td>True</td>\n",
       "    </tr>\n",
       "    <tr>\n",
       "      <th>38386</th>\n",
       "      <td>TR1_1557328989</td>\n",
       "      <td>200</td>\n",
       "      <td>3</td>\n",
       "      <td>True</td>\n",
       "    </tr>\n",
       "    <tr>\n",
       "      <th>38387</th>\n",
       "      <td>TR1_1557562830</td>\n",
       "      <td>200</td>\n",
       "      <td>3</td>\n",
       "      <td>True</td>\n",
       "    </tr>\n",
       "    <tr>\n",
       "      <th>38388</th>\n",
       "      <td>TR1_1557947149</td>\n",
       "      <td>200</td>\n",
       "      <td>4</td>\n",
       "      <td>True</td>\n",
       "    </tr>\n",
       "    <tr>\n",
       "      <th>38389</th>\n",
       "      <td>TR1_1558005152</td>\n",
       "      <td>200</td>\n",
       "      <td>5</td>\n",
       "      <td>True</td>\n",
       "    </tr>\n",
       "  </tbody>\n",
       "</table>\n",
       "<p>38390 rows × 4 columns</p>\n",
       "</div>"
      ],
      "text/plain": [
       "                gameId  teamId  goodPlayersCountInTeam  majorityGoodPlayers\n",
       "0      EUN1_3674082346     100                       4                 True\n",
       "1      EUN1_3674396954     200                       2                False\n",
       "2      EUN1_3674432138     200                       3                 True\n",
       "3      EUN1_3674441883     100                       3                 True\n",
       "4      EUN1_3674441883     200                       3                 True\n",
       "...                ...     ...                     ...                  ...\n",
       "38385   TR1_1557321820     100                       4                 True\n",
       "38386   TR1_1557328989     200                       3                 True\n",
       "38387   TR1_1557562830     200                       3                 True\n",
       "38388   TR1_1557947149     200                       4                 True\n",
       "38389   TR1_1558005152     200                       5                 True\n",
       "\n",
       "[38390 rows x 4 columns]"
      ]
     },
     "execution_count": 12,
     "metadata": {},
     "output_type": "execute_result"
    }
   ],
   "source": [
    "# good and player count within good team matches\n",
    "goodPlayerCountInGoodTeam = individualInTeamLabels[individualInTeamLabels['isGoodTeam'] == True].groupby(['gameId', 'teamId'])['isGoodPlayer'].sum().reset_index(name='goodPlayersCountInTeam')\n",
    "goodPlayerCountInGoodTeam['majorityGoodPlayers'] = goodPlayerCountInGoodTeam['goodPlayersCountInTeam'] > 2\n",
    "goodPlayerCountInGoodTeam"
   ]
  },
  {
   "cell_type": "code",
   "execution_count": 13,
   "metadata": {},
   "outputs": [
    {
     "data": {
      "text/plain": [
       "majorityGoodPlayers\n",
       "True     35010\n",
       "False     3380\n",
       "Name: count, dtype: int64"
      ]
     },
     "execution_count": 13,
     "metadata": {},
     "output_type": "execute_result"
    }
   ],
   "source": [
    "goodPlayerCountInGoodTeam['majorityGoodPlayers'].value_counts()"
   ]
  },
  {
   "cell_type": "code",
   "execution_count": 20,
   "metadata": {},
   "outputs": [
    {
     "data": {
      "text/html": [
       "<div>\n",
       "<style scoped>\n",
       "    .dataframe tbody tr th:only-of-type {\n",
       "        vertical-align: middle;\n",
       "    }\n",
       "\n",
       "    .dataframe tbody tr th {\n",
       "        vertical-align: top;\n",
       "    }\n",
       "\n",
       "    .dataframe thead th {\n",
       "        text-align: right;\n",
       "    }\n",
       "</style>\n",
       "<table border=\"1\" class=\"dataframe\">\n",
       "  <thead>\n",
       "    <tr style=\"text-align: right;\">\n",
       "      <th></th>\n",
       "      <th>gameId</th>\n",
       "      <th>teamId</th>\n",
       "      <th>goodPlayersCountInTeam</th>\n",
       "      <th>majorityGoodPlayers</th>\n",
       "    </tr>\n",
       "  </thead>\n",
       "  <tbody>\n",
       "    <tr>\n",
       "      <th>0</th>\n",
       "      <td>EUN1_3674082346</td>\n",
       "      <td>200</td>\n",
       "      <td>3</td>\n",
       "      <td>True</td>\n",
       "    </tr>\n",
       "    <tr>\n",
       "      <th>1</th>\n",
       "      <td>EUN1_3674396954</td>\n",
       "      <td>100</td>\n",
       "      <td>2</td>\n",
       "      <td>False</td>\n",
       "    </tr>\n",
       "    <tr>\n",
       "      <th>2</th>\n",
       "      <td>EUN1_3674432138</td>\n",
       "      <td>100</td>\n",
       "      <td>1</td>\n",
       "      <td>False</td>\n",
       "    </tr>\n",
       "    <tr>\n",
       "      <th>3</th>\n",
       "      <td>EUN1_3674480330</td>\n",
       "      <td>200</td>\n",
       "      <td>2</td>\n",
       "      <td>False</td>\n",
       "    </tr>\n",
       "    <tr>\n",
       "      <th>4</th>\n",
       "      <td>EUN1_3674801136</td>\n",
       "      <td>100</td>\n",
       "      <td>2</td>\n",
       "      <td>False</td>\n",
       "    </tr>\n",
       "    <tr>\n",
       "      <th>...</th>\n",
       "      <td>...</td>\n",
       "      <td>...</td>\n",
       "      <td>...</td>\n",
       "      <td>...</td>\n",
       "    </tr>\n",
       "    <tr>\n",
       "      <th>23715</th>\n",
       "      <td>TR1_1557321820</td>\n",
       "      <td>200</td>\n",
       "      <td>3</td>\n",
       "      <td>True</td>\n",
       "    </tr>\n",
       "    <tr>\n",
       "      <th>23716</th>\n",
       "      <td>TR1_1557328989</td>\n",
       "      <td>100</td>\n",
       "      <td>1</td>\n",
       "      <td>False</td>\n",
       "    </tr>\n",
       "    <tr>\n",
       "      <th>23717</th>\n",
       "      <td>TR1_1557562830</td>\n",
       "      <td>100</td>\n",
       "      <td>2</td>\n",
       "      <td>False</td>\n",
       "    </tr>\n",
       "    <tr>\n",
       "      <th>23718</th>\n",
       "      <td>TR1_1557947149</td>\n",
       "      <td>100</td>\n",
       "      <td>2</td>\n",
       "      <td>False</td>\n",
       "    </tr>\n",
       "    <tr>\n",
       "      <th>23719</th>\n",
       "      <td>TR1_1558005152</td>\n",
       "      <td>100</td>\n",
       "      <td>1</td>\n",
       "      <td>False</td>\n",
       "    </tr>\n",
       "  </tbody>\n",
       "</table>\n",
       "<p>23720 rows × 4 columns</p>\n",
       "</div>"
      ],
      "text/plain": [
       "                gameId  teamId  goodPlayersCountInTeam  majorityGoodPlayers\n",
       "0      EUN1_3674082346     200                       3                 True\n",
       "1      EUN1_3674396954     100                       2                False\n",
       "2      EUN1_3674432138     100                       1                False\n",
       "3      EUN1_3674480330     200                       2                False\n",
       "4      EUN1_3674801136     100                       2                False\n",
       "...                ...     ...                     ...                  ...\n",
       "23715   TR1_1557321820     200                       3                 True\n",
       "23716   TR1_1557328989     100                       1                False\n",
       "23717   TR1_1557562830     100                       2                False\n",
       "23718   TR1_1557947149     100                       2                False\n",
       "23719   TR1_1558005152     100                       1                False\n",
       "\n",
       "[23720 rows x 4 columns]"
      ]
     },
     "execution_count": 20,
     "metadata": {},
     "output_type": "execute_result"
    }
   ],
   "source": [
    "# good and bad player count within bad team matches\n",
    "goodPlayerCountInBadTeam = individualInTeamLabels[individualInTeamLabels['isGoodTeam'] == False].groupby(['gameId', 'teamId'])['isGoodPlayer'].sum().reset_index(name='goodPlayersCountInTeam') \n",
    "goodPlayerCountInBadTeam['majorityGoodPlayers'] = goodPlayerCountInBadTeam['goodPlayersCountInTeam'] > 2\n",
    "goodPlayerCountInBadTeam"
   ]
  },
  {
   "cell_type": "code",
   "execution_count": 21,
   "metadata": {},
   "outputs": [
    {
     "data": {
      "text/plain": [
       "majorityGoodPlayers\n",
       "False    18445\n",
       "True      5275\n",
       "Name: count, dtype: int64"
      ]
     },
     "execution_count": 21,
     "metadata": {},
     "output_type": "execute_result"
    }
   ],
   "source": [
    "goodPlayerCountInBadTeam['majorityGoodPlayers'].value_counts()"
   ]
  },
  {
   "cell_type": "markdown",
   "metadata": {},
   "source": [
    "### How often do majority good players or bad players in good team win the game"
   ]
  },
  {
   "cell_type": "code",
   "execution_count": 14,
   "metadata": {},
   "outputs": [
    {
     "data": {
      "text/html": [
       "<div>\n",
       "<style scoped>\n",
       "    .dataframe tbody tr th:only-of-type {\n",
       "        vertical-align: middle;\n",
       "    }\n",
       "\n",
       "    .dataframe tbody tr th {\n",
       "        vertical-align: top;\n",
       "    }\n",
       "\n",
       "    .dataframe thead th {\n",
       "        text-align: right;\n",
       "    }\n",
       "</style>\n",
       "<table border=\"1\" class=\"dataframe\">\n",
       "  <thead>\n",
       "    <tr style=\"text-align: right;\">\n",
       "      <th></th>\n",
       "      <th>gameId</th>\n",
       "      <th>teamId</th>\n",
       "      <th>goodPlayersCountInTeam</th>\n",
       "      <th>majorityGoodPlayers</th>\n",
       "      <th>win</th>\n",
       "    </tr>\n",
       "  </thead>\n",
       "  <tbody>\n",
       "    <tr>\n",
       "      <th>0</th>\n",
       "      <td>EUN1_3674082346</td>\n",
       "      <td>100</td>\n",
       "      <td>4</td>\n",
       "      <td>True</td>\n",
       "      <td>1</td>\n",
       "    </tr>\n",
       "    <tr>\n",
       "      <th>1</th>\n",
       "      <td>EUN1_3674396954</td>\n",
       "      <td>200</td>\n",
       "      <td>2</td>\n",
       "      <td>False</td>\n",
       "      <td>1</td>\n",
       "    </tr>\n",
       "    <tr>\n",
       "      <th>2</th>\n",
       "      <td>EUN1_3674432138</td>\n",
       "      <td>200</td>\n",
       "      <td>3</td>\n",
       "      <td>True</td>\n",
       "      <td>1</td>\n",
       "    </tr>\n",
       "    <tr>\n",
       "      <th>3</th>\n",
       "      <td>EUN1_3674441883</td>\n",
       "      <td>100</td>\n",
       "      <td>3</td>\n",
       "      <td>True</td>\n",
       "      <td>1</td>\n",
       "    </tr>\n",
       "    <tr>\n",
       "      <th>4</th>\n",
       "      <td>EUN1_3674441883</td>\n",
       "      <td>200</td>\n",
       "      <td>3</td>\n",
       "      <td>True</td>\n",
       "      <td>0</td>\n",
       "    </tr>\n",
       "    <tr>\n",
       "      <th>...</th>\n",
       "      <td>...</td>\n",
       "      <td>...</td>\n",
       "      <td>...</td>\n",
       "      <td>...</td>\n",
       "      <td>...</td>\n",
       "    </tr>\n",
       "    <tr>\n",
       "      <th>38385</th>\n",
       "      <td>TR1_1557321820</td>\n",
       "      <td>100</td>\n",
       "      <td>4</td>\n",
       "      <td>True</td>\n",
       "      <td>1</td>\n",
       "    </tr>\n",
       "    <tr>\n",
       "      <th>38386</th>\n",
       "      <td>TR1_1557328989</td>\n",
       "      <td>200</td>\n",
       "      <td>3</td>\n",
       "      <td>True</td>\n",
       "      <td>1</td>\n",
       "    </tr>\n",
       "    <tr>\n",
       "      <th>38387</th>\n",
       "      <td>TR1_1557562830</td>\n",
       "      <td>200</td>\n",
       "      <td>3</td>\n",
       "      <td>True</td>\n",
       "      <td>0</td>\n",
       "    </tr>\n",
       "    <tr>\n",
       "      <th>38388</th>\n",
       "      <td>TR1_1557947149</td>\n",
       "      <td>200</td>\n",
       "      <td>4</td>\n",
       "      <td>True</td>\n",
       "      <td>1</td>\n",
       "    </tr>\n",
       "    <tr>\n",
       "      <th>38389</th>\n",
       "      <td>TR1_1558005152</td>\n",
       "      <td>200</td>\n",
       "      <td>5</td>\n",
       "      <td>True</td>\n",
       "      <td>1</td>\n",
       "    </tr>\n",
       "  </tbody>\n",
       "</table>\n",
       "<p>38390 rows × 5 columns</p>\n",
       "</div>"
      ],
      "text/plain": [
       "                gameId  teamId  goodPlayersCountInTeam  majorityGoodPlayers  \\\n",
       "0      EUN1_3674082346     100                       4                 True   \n",
       "1      EUN1_3674396954     200                       2                False   \n",
       "2      EUN1_3674432138     200                       3                 True   \n",
       "3      EUN1_3674441883     100                       3                 True   \n",
       "4      EUN1_3674441883     200                       3                 True   \n",
       "...                ...     ...                     ...                  ...   \n",
       "38385   TR1_1557321820     100                       4                 True   \n",
       "38386   TR1_1557328989     200                       3                 True   \n",
       "38387   TR1_1557562830     200                       3                 True   \n",
       "38388   TR1_1557947149     200                       4                 True   \n",
       "38389   TR1_1558005152     200                       5                 True   \n",
       "\n",
       "       win  \n",
       "0        1  \n",
       "1        1  \n",
       "2        1  \n",
       "3        1  \n",
       "4        0  \n",
       "...    ...  \n",
       "38385    1  \n",
       "38386    1  \n",
       "38387    0  \n",
       "38388    1  \n",
       "38389    1  \n",
       "\n",
       "[38390 rows x 5 columns]"
      ]
     },
     "execution_count": 14,
     "metadata": {},
     "output_type": "execute_result"
    }
   ],
   "source": [
    "goodPlayerCountInGoodTeam = goodPlayerCountInGoodTeam.merge(teamLabels[['gameId', 'teamId', 'win']], on=['gameId', 'teamId'], how='inner')\n",
    "goodPlayerCountInGoodTeam"
   ]
  },
  {
   "cell_type": "code",
   "execution_count": 15,
   "metadata": {},
   "outputs": [
    {
     "data": {
      "text/plain": [
       "win\n",
       "1    29951\n",
       "0     8439\n",
       "Name: count, dtype: int64"
      ]
     },
     "execution_count": 15,
     "metadata": {},
     "output_type": "execute_result"
    }
   ],
   "source": [
    "goodPlayerCountInGoodTeam['win'].value_counts()"
   ]
  },
  {
   "cell_type": "code",
   "execution_count": 16,
   "metadata": {},
   "outputs": [
    {
     "data": {
      "text/plain": [
       "win\n",
       "1    28303\n",
       "0     6707\n",
       "Name: count, dtype: int64"
      ]
     },
     "execution_count": 16,
     "metadata": {},
     "output_type": "execute_result"
    }
   ],
   "source": [
    "goodPlayerCountInGoodTeam[goodPlayerCountInGoodTeam['majorityGoodPlayers'] == True]['win'].value_counts()"
   ]
  },
  {
   "cell_type": "code",
   "execution_count": 18,
   "metadata": {},
   "outputs": [
    {
     "data": {
      "text/plain": [
       "win\n",
       "0    1732\n",
       "1    1648\n",
       "Name: count, dtype: int64"
      ]
     },
     "execution_count": 18,
     "metadata": {},
     "output_type": "execute_result"
    }
   ],
   "source": [
    "goodPlayerCountInGoodTeam[goodPlayerCountInGoodTeam['majorityGoodPlayers'] == False]['win'].value_counts()"
   ]
  },
  {
   "cell_type": "markdown",
   "metadata": {},
   "source": [
    "### How often do majority good players or bad players in bad team win the game"
   ]
  },
  {
   "cell_type": "code",
   "execution_count": 22,
   "metadata": {},
   "outputs": [
    {
     "data": {
      "text/html": [
       "<div>\n",
       "<style scoped>\n",
       "    .dataframe tbody tr th:only-of-type {\n",
       "        vertical-align: middle;\n",
       "    }\n",
       "\n",
       "    .dataframe tbody tr th {\n",
       "        vertical-align: top;\n",
       "    }\n",
       "\n",
       "    .dataframe thead th {\n",
       "        text-align: right;\n",
       "    }\n",
       "</style>\n",
       "<table border=\"1\" class=\"dataframe\">\n",
       "  <thead>\n",
       "    <tr style=\"text-align: right;\">\n",
       "      <th></th>\n",
       "      <th>gameId</th>\n",
       "      <th>teamId</th>\n",
       "      <th>goodPlayersCountInTeam</th>\n",
       "      <th>majorityGoodPlayers</th>\n",
       "      <th>win</th>\n",
       "    </tr>\n",
       "  </thead>\n",
       "  <tbody>\n",
       "    <tr>\n",
       "      <th>0</th>\n",
       "      <td>EUN1_3674082346</td>\n",
       "      <td>200</td>\n",
       "      <td>3</td>\n",
       "      <td>True</td>\n",
       "      <td>0</td>\n",
       "    </tr>\n",
       "    <tr>\n",
       "      <th>1</th>\n",
       "      <td>EUN1_3674396954</td>\n",
       "      <td>100</td>\n",
       "      <td>2</td>\n",
       "      <td>False</td>\n",
       "      <td>0</td>\n",
       "    </tr>\n",
       "    <tr>\n",
       "      <th>2</th>\n",
       "      <td>EUN1_3674432138</td>\n",
       "      <td>100</td>\n",
       "      <td>1</td>\n",
       "      <td>False</td>\n",
       "      <td>0</td>\n",
       "    </tr>\n",
       "    <tr>\n",
       "      <th>3</th>\n",
       "      <td>EUN1_3674480330</td>\n",
       "      <td>200</td>\n",
       "      <td>2</td>\n",
       "      <td>False</td>\n",
       "      <td>0</td>\n",
       "    </tr>\n",
       "    <tr>\n",
       "      <th>4</th>\n",
       "      <td>EUN1_3674801136</td>\n",
       "      <td>100</td>\n",
       "      <td>2</td>\n",
       "      <td>False</td>\n",
       "      <td>0</td>\n",
       "    </tr>\n",
       "    <tr>\n",
       "      <th>...</th>\n",
       "      <td>...</td>\n",
       "      <td>...</td>\n",
       "      <td>...</td>\n",
       "      <td>...</td>\n",
       "      <td>...</td>\n",
       "    </tr>\n",
       "    <tr>\n",
       "      <th>23715</th>\n",
       "      <td>TR1_1557321820</td>\n",
       "      <td>200</td>\n",
       "      <td>3</td>\n",
       "      <td>True</td>\n",
       "      <td>0</td>\n",
       "    </tr>\n",
       "    <tr>\n",
       "      <th>23716</th>\n",
       "      <td>TR1_1557328989</td>\n",
       "      <td>100</td>\n",
       "      <td>1</td>\n",
       "      <td>False</td>\n",
       "      <td>0</td>\n",
       "    </tr>\n",
       "    <tr>\n",
       "      <th>23717</th>\n",
       "      <td>TR1_1557562830</td>\n",
       "      <td>100</td>\n",
       "      <td>2</td>\n",
       "      <td>False</td>\n",
       "      <td>1</td>\n",
       "    </tr>\n",
       "    <tr>\n",
       "      <th>23718</th>\n",
       "      <td>TR1_1557947149</td>\n",
       "      <td>100</td>\n",
       "      <td>2</td>\n",
       "      <td>False</td>\n",
       "      <td>0</td>\n",
       "    </tr>\n",
       "    <tr>\n",
       "      <th>23719</th>\n",
       "      <td>TR1_1558005152</td>\n",
       "      <td>100</td>\n",
       "      <td>1</td>\n",
       "      <td>False</td>\n",
       "      <td>0</td>\n",
       "    </tr>\n",
       "  </tbody>\n",
       "</table>\n",
       "<p>23720 rows × 5 columns</p>\n",
       "</div>"
      ],
      "text/plain": [
       "                gameId  teamId  goodPlayersCountInTeam  majorityGoodPlayers  \\\n",
       "0      EUN1_3674082346     200                       3                 True   \n",
       "1      EUN1_3674396954     100                       2                False   \n",
       "2      EUN1_3674432138     100                       1                False   \n",
       "3      EUN1_3674480330     200                       2                False   \n",
       "4      EUN1_3674801136     100                       2                False   \n",
       "...                ...     ...                     ...                  ...   \n",
       "23715   TR1_1557321820     200                       3                 True   \n",
       "23716   TR1_1557328989     100                       1                False   \n",
       "23717   TR1_1557562830     100                       2                False   \n",
       "23718   TR1_1557947149     100                       2                False   \n",
       "23719   TR1_1558005152     100                       1                False   \n",
       "\n",
       "       win  \n",
       "0        0  \n",
       "1        0  \n",
       "2        0  \n",
       "3        0  \n",
       "4        0  \n",
       "...    ...  \n",
       "23715    0  \n",
       "23716    0  \n",
       "23717    1  \n",
       "23718    0  \n",
       "23719    0  \n",
       "\n",
       "[23720 rows x 5 columns]"
      ]
     },
     "execution_count": 22,
     "metadata": {},
     "output_type": "execute_result"
    }
   ],
   "source": [
    "goodPlayerCountInBadTeam = goodPlayerCountInBadTeam.merge(teamLabels[['gameId', 'teamId', 'win']], on=['gameId', 'teamId'], how='inner')\n",
    "goodPlayerCountInBadTeam"
   ]
  },
  {
   "cell_type": "code",
   "execution_count": 23,
   "metadata": {},
   "outputs": [
    {
     "data": {
      "text/plain": [
       "win\n",
       "0    22616\n",
       "1     1104\n",
       "Name: count, dtype: int64"
      ]
     },
     "execution_count": 23,
     "metadata": {},
     "output_type": "execute_result"
    }
   ],
   "source": [
    "goodPlayerCountInBadTeam['win'].value_counts()"
   ]
  },
  {
   "cell_type": "code",
   "execution_count": 24,
   "metadata": {},
   "outputs": [
    {
     "data": {
      "text/plain": [
       "win\n",
       "0    4763\n",
       "1     512\n",
       "Name: count, dtype: int64"
      ]
     },
     "execution_count": 24,
     "metadata": {},
     "output_type": "execute_result"
    }
   ],
   "source": [
    "goodPlayerCountInBadTeam[goodPlayerCountInBadTeam['majorityGoodPlayers'] == True]['win'].value_counts()"
   ]
  },
  {
   "cell_type": "code",
   "execution_count": 26,
   "metadata": {},
   "outputs": [
    {
     "data": {
      "text/plain": [
       "win\n",
       "0    17853\n",
       "1      592\n",
       "Name: count, dtype: int64"
      ]
     },
     "execution_count": 26,
     "metadata": {},
     "output_type": "execute_result"
    }
   ],
   "source": [
    "goodPlayerCountInBadTeam[goodPlayerCountInBadTeam['majorityGoodPlayers'] == False]['win'].value_counts()"
   ]
  },
  {
   "cell_type": "code",
   "execution_count": null,
   "metadata": {},
   "outputs": [],
   "source": []
  }
 ],
 "metadata": {
  "kernelspec": {
   "display_name": "Collective-Intelligence-LoL",
   "language": "python",
   "name": "python3"
  },
  "language_info": {
   "codemirror_mode": {
    "name": "ipython",
    "version": 3
   },
   "file_extension": ".py",
   "mimetype": "text/x-python",
   "name": "python",
   "nbconvert_exporter": "python",
   "pygments_lexer": "ipython3",
   "version": "3.10.12"
  }
 },
 "nbformat": 4,
 "nbformat_minor": 2
}
