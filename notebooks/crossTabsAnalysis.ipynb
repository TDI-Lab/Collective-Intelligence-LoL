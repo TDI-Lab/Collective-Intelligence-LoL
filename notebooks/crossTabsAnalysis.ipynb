{
 "cells": [
  {
   "cell_type": "code",
   "execution_count": 1,
   "metadata": {},
   "outputs": [],
   "source": [
    "import pandas as pd\n",
    "import matplotlib.pyplot as plt\n",
    "import numpy as np"
   ]
  },
  {
   "cell_type": "code",
   "execution_count": 2,
   "metadata": {},
   "outputs": [
    {
     "name": "stdout",
     "output_type": "stream",
     "text": [
      "(310550, 27)\n"
     ]
    },
    {
     "data": {
      "text/html": [
       "<div>\n",
       "<style scoped>\n",
       "    .dataframe tbody tr th:only-of-type {\n",
       "        vertical-align: middle;\n",
       "    }\n",
       "\n",
       "    .dataframe tbody tr th {\n",
       "        vertical-align: top;\n",
       "    }\n",
       "\n",
       "    .dataframe thead th {\n",
       "        text-align: right;\n",
       "    }\n",
       "</style>\n",
       "<table border=\"1\" class=\"dataframe\">\n",
       "  <thead>\n",
       "    <tr style=\"text-align: right;\">\n",
       "      <th></th>\n",
       "      <th>summonerId</th>\n",
       "      <th>gameId</th>\n",
       "      <th>teamId</th>\n",
       "      <th>teamPosition</th>\n",
       "      <th>win</th>\n",
       "      <th>playerNumericalRank</th>\n",
       "      <th>goldEarned</th>\n",
       "      <th>playerGoldPerMin</th>\n",
       "      <th>champExperience</th>\n",
       "      <th>playerExpPerMin</th>\n",
       "      <th>...</th>\n",
       "      <th>playerVisionScorePerMin</th>\n",
       "      <th>totalMinionsKilled</th>\n",
       "      <th>playerMinionsKilledPerMin</th>\n",
       "      <th>playerTotalIndegree</th>\n",
       "      <th>playerTotalOutdegree</th>\n",
       "      <th>AcquiringFactor</th>\n",
       "      <th>NonAcquiringFactor</th>\n",
       "      <th>individual_labels</th>\n",
       "      <th>isGoodPlayer</th>\n",
       "      <th>playerClusterLabel</th>\n",
       "    </tr>\n",
       "  </thead>\n",
       "  <tbody>\n",
       "    <tr>\n",
       "      <th>0</th>\n",
       "      <td>urMqoBHLvge003_UlbDVtFxRI9hc1IUgDUHJibJyX7OPQHs</td>\n",
       "      <td>EUW1_7139824479</td>\n",
       "      <td>100</td>\n",
       "      <td>TOP</td>\n",
       "      <td>0</td>\n",
       "      <td>4</td>\n",
       "      <td>10434</td>\n",
       "      <td>335.678284</td>\n",
       "      <td>15998</td>\n",
       "      <td>514.680965</td>\n",
       "      <td>...</td>\n",
       "      <td>0.965147</td>\n",
       "      <td>149</td>\n",
       "      <td>4.793566</td>\n",
       "      <td>8</td>\n",
       "      <td>15</td>\n",
       "      <td>-0.773508</td>\n",
       "      <td>-0.220719</td>\n",
       "      <td>0</td>\n",
       "      <td>False</td>\n",
       "      <td>average</td>\n",
       "    </tr>\n",
       "    <tr>\n",
       "      <th>1</th>\n",
       "      <td>IB17wcNnxvRxXv3ATJwo0BFBKl6funU0RU9f5Chg8wkm3sRu</td>\n",
       "      <td>EUW1_7139824479</td>\n",
       "      <td>100</td>\n",
       "      <td>JUNGLE</td>\n",
       "      <td>0</td>\n",
       "      <td>4</td>\n",
       "      <td>11754</td>\n",
       "      <td>378.144772</td>\n",
       "      <td>12801</td>\n",
       "      <td>411.828418</td>\n",
       "      <td>...</td>\n",
       "      <td>0.804290</td>\n",
       "      <td>21</td>\n",
       "      <td>0.675603</td>\n",
       "      <td>14</td>\n",
       "      <td>18</td>\n",
       "      <td>-0.264876</td>\n",
       "      <td>-0.238105</td>\n",
       "      <td>0</td>\n",
       "      <td>False</td>\n",
       "      <td>average</td>\n",
       "    </tr>\n",
       "    <tr>\n",
       "      <th>2</th>\n",
       "      <td>6OSj8EMpeN-25RAzOVlkLoMss0qbRSDWt_DSV-EK9TbgAUFA</td>\n",
       "      <td>EUW1_7139824479</td>\n",
       "      <td>100</td>\n",
       "      <td>MIDDLE</td>\n",
       "      <td>0</td>\n",
       "      <td>3</td>\n",
       "      <td>14008</td>\n",
       "      <td>450.659517</td>\n",
       "      <td>16812</td>\n",
       "      <td>540.868633</td>\n",
       "      <td>...</td>\n",
       "      <td>0.868633</td>\n",
       "      <td>224</td>\n",
       "      <td>7.206434</td>\n",
       "      <td>17</td>\n",
       "      <td>13</td>\n",
       "      <td>0.680857</td>\n",
       "      <td>0.011135</td>\n",
       "      <td>2</td>\n",
       "      <td>True</td>\n",
       "      <td>good</td>\n",
       "    </tr>\n",
       "    <tr>\n",
       "      <th>3</th>\n",
       "      <td>WL5b92v_8-lP1RvTKado4XL7ZnGnozfSHkOJyz6ruPhbaYIL</td>\n",
       "      <td>EUW1_7139824479</td>\n",
       "      <td>100</td>\n",
       "      <td>BOTTOM</td>\n",
       "      <td>0</td>\n",
       "      <td>5</td>\n",
       "      <td>13199</td>\n",
       "      <td>424.632708</td>\n",
       "      <td>13664</td>\n",
       "      <td>439.592493</td>\n",
       "      <td>...</td>\n",
       "      <td>0.160858</td>\n",
       "      <td>162</td>\n",
       "      <td>5.211796</td>\n",
       "      <td>26</td>\n",
       "      <td>7</td>\n",
       "      <td>0.128600</td>\n",
       "      <td>-1.045854</td>\n",
       "      <td>0</td>\n",
       "      <td>False</td>\n",
       "      <td>average</td>\n",
       "    </tr>\n",
       "    <tr>\n",
       "      <th>4</th>\n",
       "      <td>7ik42UGLweXMslY7AHf4oJl2yIY7tJOHWfrQztibBg6D6aeq</td>\n",
       "      <td>EUW1_7139824479</td>\n",
       "      <td>100</td>\n",
       "      <td>UTILITY</td>\n",
       "      <td>0</td>\n",
       "      <td>4</td>\n",
       "      <td>7658</td>\n",
       "      <td>246.369973</td>\n",
       "      <td>9087</td>\n",
       "      <td>292.343164</td>\n",
       "      <td>...</td>\n",
       "      <td>1.833780</td>\n",
       "      <td>25</td>\n",
       "      <td>0.804290</td>\n",
       "      <td>3</td>\n",
       "      <td>15</td>\n",
       "      <td>-1.656852</td>\n",
       "      <td>0.776635</td>\n",
       "      <td>1</td>\n",
       "      <td>False</td>\n",
       "      <td>bad</td>\n",
       "    </tr>\n",
       "  </tbody>\n",
       "</table>\n",
       "<p>5 rows × 27 columns</p>\n",
       "</div>"
      ],
      "text/plain": [
       "                                         summonerId           gameId  teamId  \\\n",
       "0   urMqoBHLvge003_UlbDVtFxRI9hc1IUgDUHJibJyX7OPQHs  EUW1_7139824479     100   \n",
       "1  IB17wcNnxvRxXv3ATJwo0BFBKl6funU0RU9f5Chg8wkm3sRu  EUW1_7139824479     100   \n",
       "2  6OSj8EMpeN-25RAzOVlkLoMss0qbRSDWt_DSV-EK9TbgAUFA  EUW1_7139824479     100   \n",
       "3  WL5b92v_8-lP1RvTKado4XL7ZnGnozfSHkOJyz6ruPhbaYIL  EUW1_7139824479     100   \n",
       "4  7ik42UGLweXMslY7AHf4oJl2yIY7tJOHWfrQztibBg6D6aeq  EUW1_7139824479     100   \n",
       "\n",
       "  teamPosition  win  playerNumericalRank  goldEarned  playerGoldPerMin  \\\n",
       "0          TOP    0                    4       10434        335.678284   \n",
       "1       JUNGLE    0                    4       11754        378.144772   \n",
       "2       MIDDLE    0                    3       14008        450.659517   \n",
       "3       BOTTOM    0                    5       13199        424.632708   \n",
       "4      UTILITY    0                    4        7658        246.369973   \n",
       "\n",
       "   champExperience  playerExpPerMin  ...  playerVisionScorePerMin  \\\n",
       "0            15998       514.680965  ...                 0.965147   \n",
       "1            12801       411.828418  ...                 0.804290   \n",
       "2            16812       540.868633  ...                 0.868633   \n",
       "3            13664       439.592493  ...                 0.160858   \n",
       "4             9087       292.343164  ...                 1.833780   \n",
       "\n",
       "   totalMinionsKilled  playerMinionsKilledPerMin  playerTotalIndegree  \\\n",
       "0                 149                   4.793566                    8   \n",
       "1                  21                   0.675603                   14   \n",
       "2                 224                   7.206434                   17   \n",
       "3                 162                   5.211796                   26   \n",
       "4                  25                   0.804290                    3   \n",
       "\n",
       "   playerTotalOutdegree  AcquiringFactor  NonAcquiringFactor  \\\n",
       "0                    15        -0.773508           -0.220719   \n",
       "1                    18        -0.264876           -0.238105   \n",
       "2                    13         0.680857            0.011135   \n",
       "3                     7         0.128600           -1.045854   \n",
       "4                    15        -1.656852            0.776635   \n",
       "\n",
       "   individual_labels  isGoodPlayer  playerClusterLabel  \n",
       "0                  0         False             average  \n",
       "1                  0         False             average  \n",
       "2                  2          True                good  \n",
       "3                  0         False             average  \n",
       "4                  1         False                 bad  \n",
       "\n",
       "[5 rows x 27 columns]"
      ]
     },
     "execution_count": 2,
     "metadata": {},
     "output_type": "execute_result"
    }
   ],
   "source": [
    "individualLabels = pd.read_csv('../dataset/individual_factor_and_labels.csv', header=0)\n",
    "print(individualLabels.shape)\n",
    "individualLabels.head()"
   ]
  },
  {
   "cell_type": "markdown",
   "metadata": {},
   "source": [
    "### Distribution of good and bad individual players"
   ]
  },
  {
   "cell_type": "code",
   "execution_count": 3,
   "metadata": {},
   "outputs": [
    {
     "data": {
      "text/plain": [
       "playerClusterLabel\n",
       "average    144275\n",
       "good       112862\n",
       "bad         53413\n",
       "Name: count, dtype: int64"
      ]
     },
     "execution_count": 3,
     "metadata": {},
     "output_type": "execute_result"
    }
   ],
   "source": [
    "individualLabels['playerClusterLabel'].value_counts()"
   ]
  },
  {
   "cell_type": "markdown",
   "metadata": {},
   "source": [
    "### How often do good players win or lose the game"
   ]
  },
  {
   "cell_type": "code",
   "execution_count": 4,
   "metadata": {},
   "outputs": [
    {
     "data": {
      "text/plain": [
       "win\n",
       "1    81672\n",
       "0    31190\n",
       "Name: count, dtype: int64"
      ]
     },
     "execution_count": 4,
     "metadata": {},
     "output_type": "execute_result"
    }
   ],
   "source": [
    "individualLabels[individualLabels['playerClusterLabel'] == 'good']['win'].value_counts()"
   ]
  },
  {
   "cell_type": "markdown",
   "metadata": {},
   "source": [
    "### How often do bad players win or lose the game"
   ]
  },
  {
   "cell_type": "code",
   "execution_count": 5,
   "metadata": {},
   "outputs": [
    {
     "data": {
      "text/plain": [
       "win\n",
       "1    28077\n",
       "0    25336\n",
       "Name: count, dtype: int64"
      ]
     },
     "execution_count": 5,
     "metadata": {},
     "output_type": "execute_result"
    }
   ],
   "source": [
    "individualLabels[individualLabels['playerClusterLabel'] == 'bad']['win'].value_counts()"
   ]
  },
  {
   "cell_type": "markdown",
   "metadata": {},
   "source": [
    "### Howe often do average players win or lose the game"
   ]
  },
  {
   "cell_type": "code",
   "execution_count": 6,
   "metadata": {},
   "outputs": [
    {
     "data": {
      "text/plain": [
       "win\n",
       "0    98749\n",
       "1    45526\n",
       "Name: count, dtype: int64"
      ]
     },
     "execution_count": 6,
     "metadata": {},
     "output_type": "execute_result"
    }
   ],
   "source": [
    "individualLabels[individualLabels['playerClusterLabel'] == 'average']['win'].value_counts()"
   ]
  },
  {
   "cell_type": "code",
   "execution_count": 7,
   "metadata": {},
   "outputs": [
    {
     "name": "stdout",
     "output_type": "stream",
     "text": [
      "(62110, 14)\n"
     ]
    },
    {
     "data": {
      "text/html": [
       "<div>\n",
       "<style scoped>\n",
       "    .dataframe tbody tr th:only-of-type {\n",
       "        vertical-align: middle;\n",
       "    }\n",
       "\n",
       "    .dataframe tbody tr th {\n",
       "        vertical-align: top;\n",
       "    }\n",
       "\n",
       "    .dataframe thead th {\n",
       "        text-align: right;\n",
       "    }\n",
       "</style>\n",
       "<table border=\"1\" class=\"dataframe\">\n",
       "  <thead>\n",
       "    <tr style=\"text-align: right;\">\n",
       "      <th></th>\n",
       "      <th>gameId</th>\n",
       "      <th>teamId</th>\n",
       "      <th>win</th>\n",
       "      <th>averageTeamGoldPerMin</th>\n",
       "      <th>averageTeamExpPerMin</th>\n",
       "      <th>averageTeamVPM</th>\n",
       "      <th>teamIndegreeCentrality</th>\n",
       "      <th>teamOutdegreeCentrality</th>\n",
       "      <th>resistance</th>\n",
       "      <th>NonCooperativeFactor</th>\n",
       "      <th>CooperativeFactor</th>\n",
       "      <th>team_labels</th>\n",
       "      <th>isGoodTeam</th>\n",
       "      <th>teamClusterLabel</th>\n",
       "    </tr>\n",
       "  </thead>\n",
       "  <tbody>\n",
       "    <tr>\n",
       "      <th>0</th>\n",
       "      <td>EUW1_7139824479</td>\n",
       "      <td>100</td>\n",
       "      <td>0</td>\n",
       "      <td>367.2</td>\n",
       "      <td>439.862735</td>\n",
       "      <td>0.926542</td>\n",
       "      <td>0.227941</td>\n",
       "      <td>0.080882</td>\n",
       "      <td>0.6500</td>\n",
       "      <td>0.731456</td>\n",
       "      <td>-0.738828</td>\n",
       "      <td>0</td>\n",
       "      <td>False</td>\n",
       "      <td>bad</td>\n",
       "    </tr>\n",
       "    <tr>\n",
       "      <th>1</th>\n",
       "      <td>EUW1_7139824479</td>\n",
       "      <td>200</td>\n",
       "      <td>1</td>\n",
       "      <td>387.8</td>\n",
       "      <td>451.058445</td>\n",
       "      <td>0.701340</td>\n",
       "      <td>0.204545</td>\n",
       "      <td>0.172078</td>\n",
       "      <td>0.5907</td>\n",
       "      <td>0.201695</td>\n",
       "      <td>-0.065562</td>\n",
       "      <td>0</td>\n",
       "      <td>False</td>\n",
       "      <td>bad</td>\n",
       "    </tr>\n",
       "    <tr>\n",
       "      <th>2</th>\n",
       "      <td>EUW1_7140549083</td>\n",
       "      <td>100</td>\n",
       "      <td>0</td>\n",
       "      <td>380.4</td>\n",
       "      <td>416.710163</td>\n",
       "      <td>0.971142</td>\n",
       "      <td>0.240196</td>\n",
       "      <td>0.142157</td>\n",
       "      <td>1.0599</td>\n",
       "      <td>0.419814</td>\n",
       "      <td>0.016391</td>\n",
       "      <td>0</td>\n",
       "      <td>False</td>\n",
       "      <td>bad</td>\n",
       "    </tr>\n",
       "    <tr>\n",
       "      <th>3</th>\n",
       "      <td>EUW1_7140549083</td>\n",
       "      <td>200</td>\n",
       "      <td>1</td>\n",
       "      <td>500.6</td>\n",
       "      <td>544.592221</td>\n",
       "      <td>1.069009</td>\n",
       "      <td>0.174757</td>\n",
       "      <td>0.065534</td>\n",
       "      <td>0.4496</td>\n",
       "      <td>-2.502744</td>\n",
       "      <td>-0.102221</td>\n",
       "      <td>1</td>\n",
       "      <td>True</td>\n",
       "      <td>good</td>\n",
       "    </tr>\n",
       "    <tr>\n",
       "      <th>4</th>\n",
       "      <td>EUW1_7139855952</td>\n",
       "      <td>100</td>\n",
       "      <td>1</td>\n",
       "      <td>423.4</td>\n",
       "      <td>497.323814</td>\n",
       "      <td>1.199388</td>\n",
       "      <td>0.173729</td>\n",
       "      <td>0.067797</td>\n",
       "      <td>1.0129</td>\n",
       "      <td>-0.656660</td>\n",
       "      <td>-0.414528</td>\n",
       "      <td>1</td>\n",
       "      <td>True</td>\n",
       "      <td>good</td>\n",
       "    </tr>\n",
       "  </tbody>\n",
       "</table>\n",
       "</div>"
      ],
      "text/plain": [
       "            gameId  teamId  win  averageTeamGoldPerMin  averageTeamExpPerMin  \\\n",
       "0  EUW1_7139824479     100    0                  367.2            439.862735   \n",
       "1  EUW1_7139824479     200    1                  387.8            451.058445   \n",
       "2  EUW1_7140549083     100    0                  380.4            416.710163   \n",
       "3  EUW1_7140549083     200    1                  500.6            544.592221   \n",
       "4  EUW1_7139855952     100    1                  423.4            497.323814   \n",
       "\n",
       "   averageTeamVPM  teamIndegreeCentrality  teamOutdegreeCentrality  \\\n",
       "0        0.926542                0.227941                 0.080882   \n",
       "1        0.701340                0.204545                 0.172078   \n",
       "2        0.971142                0.240196                 0.142157   \n",
       "3        1.069009                0.174757                 0.065534   \n",
       "4        1.199388                0.173729                 0.067797   \n",
       "\n",
       "   resistance  NonCooperativeFactor  CooperativeFactor  team_labels  \\\n",
       "0      0.6500              0.731456          -0.738828            0   \n",
       "1      0.5907              0.201695          -0.065562            0   \n",
       "2      1.0599              0.419814           0.016391            0   \n",
       "3      0.4496             -2.502744          -0.102221            1   \n",
       "4      1.0129             -0.656660          -0.414528            1   \n",
       "\n",
       "   isGoodTeam teamClusterLabel  \n",
       "0       False              bad  \n",
       "1       False              bad  \n",
       "2       False              bad  \n",
       "3        True             good  \n",
       "4        True             good  "
      ]
     },
     "execution_count": 7,
     "metadata": {},
     "output_type": "execute_result"
    }
   ],
   "source": [
    "teamLabels = pd.read_csv('../dataset/team_factor_and_labels.csv', header=0)\n",
    "print(teamLabels.shape)\n",
    "teamLabels.head()"
   ]
  },
  {
   "cell_type": "markdown",
   "metadata": {},
   "source": [
    "### Distribution of good and bad team"
   ]
  },
  {
   "cell_type": "code",
   "execution_count": 8,
   "metadata": {},
   "outputs": [
    {
     "data": {
      "text/plain": [
       "teamClusterLabel\n",
       "good       28517\n",
       "bad        26498\n",
       "average     7095\n",
       "Name: count, dtype: int64"
      ]
     },
     "execution_count": 8,
     "metadata": {},
     "output_type": "execute_result"
    }
   ],
   "source": [
    "teamLabels['teamClusterLabel'].value_counts()"
   ]
  },
  {
   "cell_type": "markdown",
   "metadata": {},
   "source": [
    "### How often do good teams win or lose"
   ]
  },
  {
   "cell_type": "code",
   "execution_count": 9,
   "metadata": {},
   "outputs": [
    {
     "data": {
      "text/plain": [
       "win\n",
       "1    25535\n",
       "0     2982\n",
       "Name: count, dtype: int64"
      ]
     },
     "execution_count": 9,
     "metadata": {},
     "output_type": "execute_result"
    }
   ],
   "source": [
    "teamLabels[teamLabels['teamClusterLabel'] == 'good']['win'].value_counts()"
   ]
  },
  {
   "cell_type": "markdown",
   "metadata": {},
   "source": [
    "### How often do bad teams win or lose"
   ]
  },
  {
   "cell_type": "code",
   "execution_count": 10,
   "metadata": {},
   "outputs": [
    {
     "data": {
      "text/plain": [
       "win\n",
       "0    21150\n",
       "1     5348\n",
       "Name: count, dtype: int64"
      ]
     },
     "execution_count": 10,
     "metadata": {},
     "output_type": "execute_result"
    }
   ],
   "source": [
    "teamLabels[teamLabels['teamClusterLabel'] == 'bad']['win'].value_counts()"
   ]
  },
  {
   "cell_type": "markdown",
   "metadata": {},
   "source": [
    "### How often do average teams wins or lose"
   ]
  },
  {
   "cell_type": "code",
   "execution_count": 11,
   "metadata": {},
   "outputs": [
    {
     "data": {
      "text/plain": [
       "win\n",
       "0    6923\n",
       "1     172\n",
       "Name: count, dtype: int64"
      ]
     },
     "execution_count": 11,
     "metadata": {},
     "output_type": "execute_result"
    }
   ],
   "source": [
    "teamLabels[teamLabels['teamClusterLabel'] == 'average']['win'].value_counts()"
   ]
  },
  {
   "cell_type": "code",
   "execution_count": 12,
   "metadata": {},
   "outputs": [
    {
     "name": "stdout",
     "output_type": "stream",
     "text": [
      "(310550, 15)\n"
     ]
    },
    {
     "data": {
      "text/html": [
       "<div>\n",
       "<style scoped>\n",
       "    .dataframe tbody tr th:only-of-type {\n",
       "        vertical-align: middle;\n",
       "    }\n",
       "\n",
       "    .dataframe tbody tr th {\n",
       "        vertical-align: top;\n",
       "    }\n",
       "\n",
       "    .dataframe thead th {\n",
       "        text-align: right;\n",
       "    }\n",
       "</style>\n",
       "<table border=\"1\" class=\"dataframe\">\n",
       "  <thead>\n",
       "    <tr style=\"text-align: right;\">\n",
       "      <th></th>\n",
       "      <th>summonerId</th>\n",
       "      <th>gameId</th>\n",
       "      <th>teamId</th>\n",
       "      <th>teamPosition</th>\n",
       "      <th>win</th>\n",
       "      <th>playerNumericalRank</th>\n",
       "      <th>AcquiringFactor</th>\n",
       "      <th>NonAcquiringFactor</th>\n",
       "      <th>playerClusterLabel</th>\n",
       "      <th>teamIndegreeCentrality</th>\n",
       "      <th>teamOutdegreeCentrality</th>\n",
       "      <th>resistance</th>\n",
       "      <th>CooperativeFactor</th>\n",
       "      <th>NonCooperativeFactor</th>\n",
       "      <th>teamClusterLabel</th>\n",
       "    </tr>\n",
       "  </thead>\n",
       "  <tbody>\n",
       "    <tr>\n",
       "      <th>0</th>\n",
       "      <td>urMqoBHLvge003_UlbDVtFxRI9hc1IUgDUHJibJyX7OPQHs</td>\n",
       "      <td>EUW1_7139824479</td>\n",
       "      <td>100</td>\n",
       "      <td>TOP</td>\n",
       "      <td>0</td>\n",
       "      <td>4</td>\n",
       "      <td>-0.773508</td>\n",
       "      <td>-0.220719</td>\n",
       "      <td>average</td>\n",
       "      <td>0.227941</td>\n",
       "      <td>0.080882</td>\n",
       "      <td>0.65</td>\n",
       "      <td>-0.738828</td>\n",
       "      <td>0.731456</td>\n",
       "      <td>bad</td>\n",
       "    </tr>\n",
       "    <tr>\n",
       "      <th>1</th>\n",
       "      <td>IB17wcNnxvRxXv3ATJwo0BFBKl6funU0RU9f5Chg8wkm3sRu</td>\n",
       "      <td>EUW1_7139824479</td>\n",
       "      <td>100</td>\n",
       "      <td>JUNGLE</td>\n",
       "      <td>0</td>\n",
       "      <td>4</td>\n",
       "      <td>-0.264876</td>\n",
       "      <td>-0.238105</td>\n",
       "      <td>average</td>\n",
       "      <td>0.227941</td>\n",
       "      <td>0.080882</td>\n",
       "      <td>0.65</td>\n",
       "      <td>-0.738828</td>\n",
       "      <td>0.731456</td>\n",
       "      <td>bad</td>\n",
       "    </tr>\n",
       "    <tr>\n",
       "      <th>2</th>\n",
       "      <td>6OSj8EMpeN-25RAzOVlkLoMss0qbRSDWt_DSV-EK9TbgAUFA</td>\n",
       "      <td>EUW1_7139824479</td>\n",
       "      <td>100</td>\n",
       "      <td>MIDDLE</td>\n",
       "      <td>0</td>\n",
       "      <td>3</td>\n",
       "      <td>0.680857</td>\n",
       "      <td>0.011135</td>\n",
       "      <td>good</td>\n",
       "      <td>0.227941</td>\n",
       "      <td>0.080882</td>\n",
       "      <td>0.65</td>\n",
       "      <td>-0.738828</td>\n",
       "      <td>0.731456</td>\n",
       "      <td>bad</td>\n",
       "    </tr>\n",
       "    <tr>\n",
       "      <th>3</th>\n",
       "      <td>WL5b92v_8-lP1RvTKado4XL7ZnGnozfSHkOJyz6ruPhbaYIL</td>\n",
       "      <td>EUW1_7139824479</td>\n",
       "      <td>100</td>\n",
       "      <td>BOTTOM</td>\n",
       "      <td>0</td>\n",
       "      <td>5</td>\n",
       "      <td>0.128600</td>\n",
       "      <td>-1.045854</td>\n",
       "      <td>average</td>\n",
       "      <td>0.227941</td>\n",
       "      <td>0.080882</td>\n",
       "      <td>0.65</td>\n",
       "      <td>-0.738828</td>\n",
       "      <td>0.731456</td>\n",
       "      <td>bad</td>\n",
       "    </tr>\n",
       "    <tr>\n",
       "      <th>4</th>\n",
       "      <td>7ik42UGLweXMslY7AHf4oJl2yIY7tJOHWfrQztibBg6D6aeq</td>\n",
       "      <td>EUW1_7139824479</td>\n",
       "      <td>100</td>\n",
       "      <td>UTILITY</td>\n",
       "      <td>0</td>\n",
       "      <td>4</td>\n",
       "      <td>-1.656852</td>\n",
       "      <td>0.776635</td>\n",
       "      <td>bad</td>\n",
       "      <td>0.227941</td>\n",
       "      <td>0.080882</td>\n",
       "      <td>0.65</td>\n",
       "      <td>-0.738828</td>\n",
       "      <td>0.731456</td>\n",
       "      <td>bad</td>\n",
       "    </tr>\n",
       "  </tbody>\n",
       "</table>\n",
       "</div>"
      ],
      "text/plain": [
       "                                         summonerId           gameId  teamId  \\\n",
       "0   urMqoBHLvge003_UlbDVtFxRI9hc1IUgDUHJibJyX7OPQHs  EUW1_7139824479     100   \n",
       "1  IB17wcNnxvRxXv3ATJwo0BFBKl6funU0RU9f5Chg8wkm3sRu  EUW1_7139824479     100   \n",
       "2  6OSj8EMpeN-25RAzOVlkLoMss0qbRSDWt_DSV-EK9TbgAUFA  EUW1_7139824479     100   \n",
       "3  WL5b92v_8-lP1RvTKado4XL7ZnGnozfSHkOJyz6ruPhbaYIL  EUW1_7139824479     100   \n",
       "4  7ik42UGLweXMslY7AHf4oJl2yIY7tJOHWfrQztibBg6D6aeq  EUW1_7139824479     100   \n",
       "\n",
       "  teamPosition  win  playerNumericalRank  AcquiringFactor  NonAcquiringFactor  \\\n",
       "0          TOP    0                    4        -0.773508           -0.220719   \n",
       "1       JUNGLE    0                    4        -0.264876           -0.238105   \n",
       "2       MIDDLE    0                    3         0.680857            0.011135   \n",
       "3       BOTTOM    0                    5         0.128600           -1.045854   \n",
       "4      UTILITY    0                    4        -1.656852            0.776635   \n",
       "\n",
       "  playerClusterLabel  teamIndegreeCentrality  teamOutdegreeCentrality  \\\n",
       "0            average                0.227941                 0.080882   \n",
       "1            average                0.227941                 0.080882   \n",
       "2               good                0.227941                 0.080882   \n",
       "3            average                0.227941                 0.080882   \n",
       "4                bad                0.227941                 0.080882   \n",
       "\n",
       "   resistance  CooperativeFactor  NonCooperativeFactor teamClusterLabel  \n",
       "0        0.65          -0.738828              0.731456              bad  \n",
       "1        0.65          -0.738828              0.731456              bad  \n",
       "2        0.65          -0.738828              0.731456              bad  \n",
       "3        0.65          -0.738828              0.731456              bad  \n",
       "4        0.65          -0.738828              0.731456              bad  "
      ]
     },
     "execution_count": 12,
     "metadata": {},
     "output_type": "execute_result"
    }
   ],
   "source": [
    "# selective features for individual and team data\n",
    "individualData = individualLabels[['summonerId', 'gameId', 'teamId', 'teamPosition', 'win', 'playerNumericalRank', 'AcquiringFactor', 'NonAcquiringFactor', 'playerClusterLabel']]\n",
    "teamData = teamLabels[['gameId', 'teamId', 'win', 'teamIndegreeCentrality', 'teamOutdegreeCentrality', 'resistance', 'CooperativeFactor', 'NonCooperativeFactor', 'teamClusterLabel']]\n",
    "\n",
    "individualInTeamLabels = individualData.merge(teamData, on=['gameId', 'teamId', 'win'], how='inner')\n",
    "print(individualInTeamLabels.shape)\n",
    "\n",
    "individualInTeamLabels.head()\n"
   ]
  },
  {
   "cell_type": "code",
   "execution_count": 13,
   "metadata": {},
   "outputs": [
    {
     "data": {
      "text/html": [
       "<div>\n",
       "<style scoped>\n",
       "    .dataframe tbody tr th:only-of-type {\n",
       "        vertical-align: middle;\n",
       "    }\n",
       "\n",
       "    .dataframe tbody tr th {\n",
       "        vertical-align: top;\n",
       "    }\n",
       "\n",
       "    .dataframe thead th {\n",
       "        text-align: right;\n",
       "    }\n",
       "</style>\n",
       "<table border=\"1\" class=\"dataframe\">\n",
       "  <thead>\n",
       "    <tr style=\"text-align: right;\">\n",
       "      <th></th>\n",
       "      <th>summonerId</th>\n",
       "      <th>gameId</th>\n",
       "      <th>teamId</th>\n",
       "      <th>teamPosition</th>\n",
       "      <th>win</th>\n",
       "      <th>playerNumericalRank</th>\n",
       "      <th>AcquiringFactor</th>\n",
       "      <th>NonAcquiringFactor</th>\n",
       "      <th>playerClusterLabel</th>\n",
       "      <th>teamIndegreeCentrality</th>\n",
       "      <th>...</th>\n",
       "      <th>resistance</th>\n",
       "      <th>CooperativeFactor</th>\n",
       "      <th>NonCooperativeFactor</th>\n",
       "      <th>teamClusterLabel</th>\n",
       "      <th>isGoodPlayer</th>\n",
       "      <th>isBadPlayer</th>\n",
       "      <th>isAveragePlayer</th>\n",
       "      <th>isGoodTeam</th>\n",
       "      <th>isBadTeam</th>\n",
       "      <th>isAverageTeam</th>\n",
       "    </tr>\n",
       "  </thead>\n",
       "  <tbody>\n",
       "    <tr>\n",
       "      <th>0</th>\n",
       "      <td>urMqoBHLvge003_UlbDVtFxRI9hc1IUgDUHJibJyX7OPQHs</td>\n",
       "      <td>EUW1_7139824479</td>\n",
       "      <td>100</td>\n",
       "      <td>TOP</td>\n",
       "      <td>0</td>\n",
       "      <td>4</td>\n",
       "      <td>-0.773508</td>\n",
       "      <td>-0.220719</td>\n",
       "      <td>average</td>\n",
       "      <td>0.227941</td>\n",
       "      <td>...</td>\n",
       "      <td>0.6500</td>\n",
       "      <td>-0.738828</td>\n",
       "      <td>0.731456</td>\n",
       "      <td>bad</td>\n",
       "      <td>0</td>\n",
       "      <td>0</td>\n",
       "      <td>1</td>\n",
       "      <td>0</td>\n",
       "      <td>1</td>\n",
       "      <td>0</td>\n",
       "    </tr>\n",
       "    <tr>\n",
       "      <th>1</th>\n",
       "      <td>IB17wcNnxvRxXv3ATJwo0BFBKl6funU0RU9f5Chg8wkm3sRu</td>\n",
       "      <td>EUW1_7139824479</td>\n",
       "      <td>100</td>\n",
       "      <td>JUNGLE</td>\n",
       "      <td>0</td>\n",
       "      <td>4</td>\n",
       "      <td>-0.264876</td>\n",
       "      <td>-0.238105</td>\n",
       "      <td>average</td>\n",
       "      <td>0.227941</td>\n",
       "      <td>...</td>\n",
       "      <td>0.6500</td>\n",
       "      <td>-0.738828</td>\n",
       "      <td>0.731456</td>\n",
       "      <td>bad</td>\n",
       "      <td>0</td>\n",
       "      <td>0</td>\n",
       "      <td>1</td>\n",
       "      <td>0</td>\n",
       "      <td>1</td>\n",
       "      <td>0</td>\n",
       "    </tr>\n",
       "    <tr>\n",
       "      <th>2</th>\n",
       "      <td>6OSj8EMpeN-25RAzOVlkLoMss0qbRSDWt_DSV-EK9TbgAUFA</td>\n",
       "      <td>EUW1_7139824479</td>\n",
       "      <td>100</td>\n",
       "      <td>MIDDLE</td>\n",
       "      <td>0</td>\n",
       "      <td>3</td>\n",
       "      <td>0.680857</td>\n",
       "      <td>0.011135</td>\n",
       "      <td>good</td>\n",
       "      <td>0.227941</td>\n",
       "      <td>...</td>\n",
       "      <td>0.6500</td>\n",
       "      <td>-0.738828</td>\n",
       "      <td>0.731456</td>\n",
       "      <td>bad</td>\n",
       "      <td>1</td>\n",
       "      <td>0</td>\n",
       "      <td>0</td>\n",
       "      <td>0</td>\n",
       "      <td>1</td>\n",
       "      <td>0</td>\n",
       "    </tr>\n",
       "    <tr>\n",
       "      <th>3</th>\n",
       "      <td>WL5b92v_8-lP1RvTKado4XL7ZnGnozfSHkOJyz6ruPhbaYIL</td>\n",
       "      <td>EUW1_7139824479</td>\n",
       "      <td>100</td>\n",
       "      <td>BOTTOM</td>\n",
       "      <td>0</td>\n",
       "      <td>5</td>\n",
       "      <td>0.128600</td>\n",
       "      <td>-1.045854</td>\n",
       "      <td>average</td>\n",
       "      <td>0.227941</td>\n",
       "      <td>...</td>\n",
       "      <td>0.6500</td>\n",
       "      <td>-0.738828</td>\n",
       "      <td>0.731456</td>\n",
       "      <td>bad</td>\n",
       "      <td>0</td>\n",
       "      <td>0</td>\n",
       "      <td>1</td>\n",
       "      <td>0</td>\n",
       "      <td>1</td>\n",
       "      <td>0</td>\n",
       "    </tr>\n",
       "    <tr>\n",
       "      <th>4</th>\n",
       "      <td>7ik42UGLweXMslY7AHf4oJl2yIY7tJOHWfrQztibBg6D6aeq</td>\n",
       "      <td>EUW1_7139824479</td>\n",
       "      <td>100</td>\n",
       "      <td>UTILITY</td>\n",
       "      <td>0</td>\n",
       "      <td>4</td>\n",
       "      <td>-1.656852</td>\n",
       "      <td>0.776635</td>\n",
       "      <td>bad</td>\n",
       "      <td>0.227941</td>\n",
       "      <td>...</td>\n",
       "      <td>0.6500</td>\n",
       "      <td>-0.738828</td>\n",
       "      <td>0.731456</td>\n",
       "      <td>bad</td>\n",
       "      <td>0</td>\n",
       "      <td>1</td>\n",
       "      <td>0</td>\n",
       "      <td>0</td>\n",
       "      <td>1</td>\n",
       "      <td>0</td>\n",
       "    </tr>\n",
       "    <tr>\n",
       "      <th>...</th>\n",
       "      <td>...</td>\n",
       "      <td>...</td>\n",
       "      <td>...</td>\n",
       "      <td>...</td>\n",
       "      <td>...</td>\n",
       "      <td>...</td>\n",
       "      <td>...</td>\n",
       "      <td>...</td>\n",
       "      <td>...</td>\n",
       "      <td>...</td>\n",
       "      <td>...</td>\n",
       "      <td>...</td>\n",
       "      <td>...</td>\n",
       "      <td>...</td>\n",
       "      <td>...</td>\n",
       "      <td>...</td>\n",
       "      <td>...</td>\n",
       "      <td>...</td>\n",
       "      <td>...</td>\n",
       "      <td>...</td>\n",
       "      <td>...</td>\n",
       "    </tr>\n",
       "    <tr>\n",
       "      <th>310545</th>\n",
       "      <td>q5_UPBn080NYn7ZSfiTK2_h9LS2Te-wdTYM1cWDSH5y6DG...</td>\n",
       "      <td>EUW1_7139963823</td>\n",
       "      <td>200</td>\n",
       "      <td>TOP</td>\n",
       "      <td>1</td>\n",
       "      <td>30</td>\n",
       "      <td>1.836734</td>\n",
       "      <td>-0.323978</td>\n",
       "      <td>good</td>\n",
       "      <td>0.290541</td>\n",
       "      <td>...</td>\n",
       "      <td>0.5978</td>\n",
       "      <td>-0.198584</td>\n",
       "      <td>-0.631088</td>\n",
       "      <td>good</td>\n",
       "      <td>1</td>\n",
       "      <td>0</td>\n",
       "      <td>0</td>\n",
       "      <td>1</td>\n",
       "      <td>0</td>\n",
       "      <td>0</td>\n",
       "    </tr>\n",
       "    <tr>\n",
       "      <th>310546</th>\n",
       "      <td>If-qENegzmDli7cccZx9oEwQ_QaJb8TkVSg7srpkhh-fpUw</td>\n",
       "      <td>EUW1_7139963823</td>\n",
       "      <td>200</td>\n",
       "      <td>JUNGLE</td>\n",
       "      <td>1</td>\n",
       "      <td>30</td>\n",
       "      <td>0.209871</td>\n",
       "      <td>-0.502533</td>\n",
       "      <td>average</td>\n",
       "      <td>0.290541</td>\n",
       "      <td>...</td>\n",
       "      <td>0.5978</td>\n",
       "      <td>-0.198584</td>\n",
       "      <td>-0.631088</td>\n",
       "      <td>good</td>\n",
       "      <td>0</td>\n",
       "      <td>0</td>\n",
       "      <td>1</td>\n",
       "      <td>1</td>\n",
       "      <td>0</td>\n",
       "      <td>0</td>\n",
       "    </tr>\n",
       "    <tr>\n",
       "      <th>310547</th>\n",
       "      <td>xOWK8rx58hgBl3zHaoerIsJOXvvIetUOLdBdYN0SlYd1CXqX</td>\n",
       "      <td>EUW1_7139963823</td>\n",
       "      <td>200</td>\n",
       "      <td>MIDDLE</td>\n",
       "      <td>1</td>\n",
       "      <td>29</td>\n",
       "      <td>0.230619</td>\n",
       "      <td>-0.044144</td>\n",
       "      <td>good</td>\n",
       "      <td>0.290541</td>\n",
       "      <td>...</td>\n",
       "      <td>0.5978</td>\n",
       "      <td>-0.198584</td>\n",
       "      <td>-0.631088</td>\n",
       "      <td>good</td>\n",
       "      <td>1</td>\n",
       "      <td>0</td>\n",
       "      <td>0</td>\n",
       "      <td>1</td>\n",
       "      <td>0</td>\n",
       "      <td>0</td>\n",
       "    </tr>\n",
       "    <tr>\n",
       "      <th>310548</th>\n",
       "      <td>W07HWvdC3QYFl-L4p0hq9f9g3hxmdZwvuqi4ToIkvDBQBssm</td>\n",
       "      <td>EUW1_7139963823</td>\n",
       "      <td>200</td>\n",
       "      <td>BOTTOM</td>\n",
       "      <td>1</td>\n",
       "      <td>31</td>\n",
       "      <td>0.467504</td>\n",
       "      <td>0.055701</td>\n",
       "      <td>good</td>\n",
       "      <td>0.290541</td>\n",
       "      <td>...</td>\n",
       "      <td>0.5978</td>\n",
       "      <td>-0.198584</td>\n",
       "      <td>-0.631088</td>\n",
       "      <td>good</td>\n",
       "      <td>1</td>\n",
       "      <td>0</td>\n",
       "      <td>0</td>\n",
       "      <td>1</td>\n",
       "      <td>0</td>\n",
       "      <td>0</td>\n",
       "    </tr>\n",
       "    <tr>\n",
       "      <th>310549</th>\n",
       "      <td>k5Izsdi3XnEbMKLinwCAvh3iR0oZnNX5Pr8uhxkU952ayk...</td>\n",
       "      <td>EUW1_7139963823</td>\n",
       "      <td>200</td>\n",
       "      <td>UTILITY</td>\n",
       "      <td>1</td>\n",
       "      <td>27</td>\n",
       "      <td>-0.009516</td>\n",
       "      <td>6.154481</td>\n",
       "      <td>bad</td>\n",
       "      <td>0.290541</td>\n",
       "      <td>...</td>\n",
       "      <td>0.5978</td>\n",
       "      <td>-0.198584</td>\n",
       "      <td>-0.631088</td>\n",
       "      <td>good</td>\n",
       "      <td>0</td>\n",
       "      <td>1</td>\n",
       "      <td>0</td>\n",
       "      <td>1</td>\n",
       "      <td>0</td>\n",
       "      <td>0</td>\n",
       "    </tr>\n",
       "  </tbody>\n",
       "</table>\n",
       "<p>310550 rows × 21 columns</p>\n",
       "</div>"
      ],
      "text/plain": [
       "                                               summonerId           gameId  \\\n",
       "0         urMqoBHLvge003_UlbDVtFxRI9hc1IUgDUHJibJyX7OPQHs  EUW1_7139824479   \n",
       "1        IB17wcNnxvRxXv3ATJwo0BFBKl6funU0RU9f5Chg8wkm3sRu  EUW1_7139824479   \n",
       "2        6OSj8EMpeN-25RAzOVlkLoMss0qbRSDWt_DSV-EK9TbgAUFA  EUW1_7139824479   \n",
       "3        WL5b92v_8-lP1RvTKado4XL7ZnGnozfSHkOJyz6ruPhbaYIL  EUW1_7139824479   \n",
       "4        7ik42UGLweXMslY7AHf4oJl2yIY7tJOHWfrQztibBg6D6aeq  EUW1_7139824479   \n",
       "...                                                   ...              ...   \n",
       "310545  q5_UPBn080NYn7ZSfiTK2_h9LS2Te-wdTYM1cWDSH5y6DG...  EUW1_7139963823   \n",
       "310546    If-qENegzmDli7cccZx9oEwQ_QaJb8TkVSg7srpkhh-fpUw  EUW1_7139963823   \n",
       "310547   xOWK8rx58hgBl3zHaoerIsJOXvvIetUOLdBdYN0SlYd1CXqX  EUW1_7139963823   \n",
       "310548   W07HWvdC3QYFl-L4p0hq9f9g3hxmdZwvuqi4ToIkvDBQBssm  EUW1_7139963823   \n",
       "310549  k5Izsdi3XnEbMKLinwCAvh3iR0oZnNX5Pr8uhxkU952ayk...  EUW1_7139963823   \n",
       "\n",
       "        teamId teamPosition  win  playerNumericalRank  AcquiringFactor  \\\n",
       "0          100          TOP    0                    4        -0.773508   \n",
       "1          100       JUNGLE    0                    4        -0.264876   \n",
       "2          100       MIDDLE    0                    3         0.680857   \n",
       "3          100       BOTTOM    0                    5         0.128600   \n",
       "4          100      UTILITY    0                    4        -1.656852   \n",
       "...        ...          ...  ...                  ...              ...   \n",
       "310545     200          TOP    1                   30         1.836734   \n",
       "310546     200       JUNGLE    1                   30         0.209871   \n",
       "310547     200       MIDDLE    1                   29         0.230619   \n",
       "310548     200       BOTTOM    1                   31         0.467504   \n",
       "310549     200      UTILITY    1                   27        -0.009516   \n",
       "\n",
       "        NonAcquiringFactor playerClusterLabel  teamIndegreeCentrality  ...  \\\n",
       "0                -0.220719            average                0.227941  ...   \n",
       "1                -0.238105            average                0.227941  ...   \n",
       "2                 0.011135               good                0.227941  ...   \n",
       "3                -1.045854            average                0.227941  ...   \n",
       "4                 0.776635                bad                0.227941  ...   \n",
       "...                    ...                ...                     ...  ...   \n",
       "310545           -0.323978               good                0.290541  ...   \n",
       "310546           -0.502533            average                0.290541  ...   \n",
       "310547           -0.044144               good                0.290541  ...   \n",
       "310548            0.055701               good                0.290541  ...   \n",
       "310549            6.154481                bad                0.290541  ...   \n",
       "\n",
       "        resistance  CooperativeFactor  NonCooperativeFactor  teamClusterLabel  \\\n",
       "0           0.6500          -0.738828              0.731456               bad   \n",
       "1           0.6500          -0.738828              0.731456               bad   \n",
       "2           0.6500          -0.738828              0.731456               bad   \n",
       "3           0.6500          -0.738828              0.731456               bad   \n",
       "4           0.6500          -0.738828              0.731456               bad   \n",
       "...            ...                ...                   ...               ...   \n",
       "310545      0.5978          -0.198584             -0.631088              good   \n",
       "310546      0.5978          -0.198584             -0.631088              good   \n",
       "310547      0.5978          -0.198584             -0.631088              good   \n",
       "310548      0.5978          -0.198584             -0.631088              good   \n",
       "310549      0.5978          -0.198584             -0.631088              good   \n",
       "\n",
       "       isGoodPlayer  isBadPlayer  isAveragePlayer  isGoodTeam  isBadTeam  \\\n",
       "0                 0            0                1           0          1   \n",
       "1                 0            0                1           0          1   \n",
       "2                 1            0                0           0          1   \n",
       "3                 0            0                1           0          1   \n",
       "4                 0            1                0           0          1   \n",
       "...             ...          ...              ...         ...        ...   \n",
       "310545            1            0                0           1          0   \n",
       "310546            0            0                1           1          0   \n",
       "310547            1            0                0           1          0   \n",
       "310548            1            0                0           1          0   \n",
       "310549            0            1                0           1          0   \n",
       "\n",
       "        isAverageTeam  \n",
       "0                   0  \n",
       "1                   0  \n",
       "2                   0  \n",
       "3                   0  \n",
       "4                   0  \n",
       "...               ...  \n",
       "310545              0  \n",
       "310546              0  \n",
       "310547              0  \n",
       "310548              0  \n",
       "310549              0  \n",
       "\n",
       "[310550 rows x 21 columns]"
      ]
     },
     "execution_count": 13,
     "metadata": {},
     "output_type": "execute_result"
    }
   ],
   "source": [
    "individualInTeamLabels['isGoodPlayer'] = np.where(individualInTeamLabels['playerClusterLabel'] == 'good', 1, 0)\n",
    "individualInTeamLabels['isBadPlayer'] = np.where(individualInTeamLabels['playerClusterLabel'] == 'bad', 1, 0)\n",
    "individualInTeamLabels['isAveragePlayer'] = np.where(individualInTeamLabels['playerClusterLabel'] == 'average', 1, 0)\n",
    "\n",
    "individualInTeamLabels['isGoodTeam'] = np.where(individualInTeamLabels['teamClusterLabel'] == 'good', 1, 0)\n",
    "individualInTeamLabels['isBadTeam'] = np.where(individualInTeamLabels['teamClusterLabel'] == 'bad', 1, 0)\n",
    "individualInTeamLabels['isAverageTeam'] = np.where(individualInTeamLabels['teamClusterLabel'] == 'average', 1, 0)\n",
    "\n",
    "individualInTeamLabels"
   ]
  },
  {
   "cell_type": "markdown",
   "metadata": {},
   "source": [
    "## Cross-Analysis for Good Teams"
   ]
  },
  {
   "cell_type": "code",
   "execution_count": 14,
   "metadata": {},
   "outputs": [],
   "source": [
    "# good, bad and average players count within good teams\n",
    "goodPlayerCountInGoodTeam = individualInTeamLabels[individualInTeamLabels['isGoodTeam'] == True].groupby(['gameId', 'teamId'])['isGoodPlayer'].sum().reset_index(name='goodPlayersCountInTeam')\n",
    "goodPlayerCountInGoodTeam['majorityGoodPlayers'] = goodPlayerCountInGoodTeam['goodPlayersCountInTeam'] > 2\n",
    "\n",
    "badPlayerCountInGoodTeam = individualInTeamLabels[individualInTeamLabels['isGoodTeam'] == True].groupby(['gameId', 'teamId'])['isBadPlayer'].sum().reset_index(name='badPlayersCountInTeam')\n",
    "badPlayerCountInGoodTeam['majorityBadPlayers'] = badPlayerCountInGoodTeam['badPlayersCountInTeam'] > 2\n",
    "\n",
    "avgPlayerCountInGoodTeam = individualInTeamLabels[individualInTeamLabels['isGoodTeam'] == True].groupby(['gameId', 'teamId'])['isAveragePlayer'].sum().reset_index(name='avgPlayersCountInTeam')\n",
    "avgPlayerCountInGoodTeam['majorityAvgPlayers'] = avgPlayerCountInGoodTeam['avgPlayersCountInTeam'] > 2\n"
   ]
  },
  {
   "cell_type": "code",
   "execution_count": 15,
   "metadata": {},
   "outputs": [
    {
     "data": {
      "text/plain": [
       "majorityGoodPlayers\n",
       "True     18079\n",
       "False    10438\n",
       "Name: count, dtype: int64"
      ]
     },
     "execution_count": 15,
     "metadata": {},
     "output_type": "execute_result"
    }
   ],
   "source": [
    "goodPlayerCountInGoodTeam['majorityGoodPlayers'].value_counts()"
   ]
  },
  {
   "cell_type": "code",
   "execution_count": 16,
   "metadata": {},
   "outputs": [
    {
     "data": {
      "text/plain": [
       "majorityBadPlayers\n",
       "False    28517\n",
       "Name: count, dtype: int64"
      ]
     },
     "execution_count": 16,
     "metadata": {},
     "output_type": "execute_result"
    }
   ],
   "source": [
    "badPlayerCountInGoodTeam['majorityBadPlayers'].value_counts()"
   ]
  },
  {
   "cell_type": "code",
   "execution_count": 17,
   "metadata": {},
   "outputs": [
    {
     "data": {
      "text/plain": [
       "majorityAvgPlayers\n",
       "False    26141\n",
       "True      2376\n",
       "Name: count, dtype: int64"
      ]
     },
     "execution_count": 17,
     "metadata": {},
     "output_type": "execute_result"
    }
   ],
   "source": [
    "avgPlayerCountInGoodTeam['majorityAvgPlayers'].value_counts()"
   ]
  },
  {
   "cell_type": "code",
   "execution_count": 18,
   "metadata": {},
   "outputs": [
    {
     "name": "stdout",
     "output_type": "stream",
     "text": [
      "(28517, 5)\n",
      "(28517, 5)\n",
      "(28517, 5)\n"
     ]
    }
   ],
   "source": [
    "goodPlayerCountInGoodTeam = goodPlayerCountInGoodTeam.merge(teamLabels[['gameId', 'teamId', 'win']], on=['gameId', 'teamId'], how='inner')\n",
    "print(goodPlayerCountInGoodTeam.shape)\n",
    "\n",
    "badPlayerCountInGoodTeam = badPlayerCountInGoodTeam.merge(teamLabels[['gameId', 'teamId', 'win']], on=['gameId', 'teamId'], how='inner')\n",
    "print(badPlayerCountInGoodTeam.shape)\n",
    "\n",
    "avgPlayerCountInGoodTeam = avgPlayerCountInGoodTeam.merge(teamLabels[['gameId', 'teamId', 'win']], on=['gameId', 'teamId'], how='inner')\n",
    "print(avgPlayerCountInGoodTeam.shape)"
   ]
  },
  {
   "cell_type": "markdown",
   "metadata": {},
   "source": [
    "### How often do good teams with majority of good, bad or average players win the game"
   ]
  },
  {
   "cell_type": "code",
   "execution_count": 19,
   "metadata": {},
   "outputs": [
    {
     "data": {
      "text/plain": [
       "win\n",
       "1    17032\n",
       "0     1047\n",
       "Name: count, dtype: int64"
      ]
     },
     "execution_count": 19,
     "metadata": {},
     "output_type": "execute_result"
    }
   ],
   "source": [
    "goodPlayerCountInGoodTeam[goodPlayerCountInGoodTeam['majorityGoodPlayers'] == True]['win'].value_counts()"
   ]
  },
  {
   "cell_type": "code",
   "execution_count": 20,
   "metadata": {},
   "outputs": [
    {
     "data": {
      "text/plain": [
       "Series([], Name: count, dtype: int64)"
      ]
     },
     "execution_count": 20,
     "metadata": {},
     "output_type": "execute_result"
    }
   ],
   "source": [
    "badPlayerCountInGoodTeam[badPlayerCountInGoodTeam['majorityBadPlayers'] == True]['win'].value_counts()"
   ]
  },
  {
   "cell_type": "code",
   "execution_count": 21,
   "metadata": {},
   "outputs": [
    {
     "data": {
      "text/plain": [
       "win\n",
       "1    1831\n",
       "0     545\n",
       "Name: count, dtype: int64"
      ]
     },
     "execution_count": 21,
     "metadata": {},
     "output_type": "execute_result"
    }
   ],
   "source": [
    "avgPlayerCountInGoodTeam[avgPlayerCountInGoodTeam['majorityAvgPlayers'] == True]['win'].value_counts()"
   ]
  },
  {
   "cell_type": "markdown",
   "metadata": {},
   "source": [
    "## Cross-Analysis for Bad Teams"
   ]
  },
  {
   "cell_type": "code",
   "execution_count": 22,
   "metadata": {},
   "outputs": [],
   "source": [
    "# good, bad and average player count within bad team matches\n",
    "goodPlayerCountInBadTeam = individualInTeamLabels[individualInTeamLabels['isBadTeam'] == True].groupby(['gameId', 'teamId'])['isGoodPlayer'].sum().reset_index(name='goodPlayersCountInTeam') \n",
    "goodPlayerCountInBadTeam['majorityGoodPlayers'] = goodPlayerCountInBadTeam['goodPlayersCountInTeam'] > 2\n",
    "\n",
    "badPlayerCountInBadTeam = individualInTeamLabels[individualInTeamLabels['isBadTeam'] == True].groupby(['gameId', 'teamId'])['isBadPlayer'].sum().reset_index(name='badPlayersCountInTeam') \n",
    "badPlayerCountInBadTeam['majorityBadPlayers'] = badPlayerCountInBadTeam['badPlayersCountInTeam'] > 2\n",
    "\n",
    "avgPlayerCountInBadTeam = individualInTeamLabels[individualInTeamLabels['isBadTeam'] == True].groupby(['gameId', 'teamId'])['isAveragePlayer'].sum().reset_index(name='avgPlayersCountInTeam') \n",
    "avgPlayerCountInBadTeam['majorityAvgPlayers'] = avgPlayerCountInBadTeam['avgPlayersCountInTeam'] > 2"
   ]
  },
  {
   "cell_type": "code",
   "execution_count": 23,
   "metadata": {},
   "outputs": [
    {
     "name": "stdout",
     "output_type": "stream",
     "text": [
      "(26498, 5)\n",
      "(26498, 5)\n",
      "(26498, 5)\n"
     ]
    }
   ],
   "source": [
    "goodPlayerCountInBadTeam = goodPlayerCountInBadTeam.merge(teamLabels[['gameId', 'teamId', 'win']], on=['gameId', 'teamId'], how='inner')\n",
    "print(goodPlayerCountInBadTeam.shape)\n",
    "\n",
    "badPlayerCountInBadTeam = badPlayerCountInBadTeam.merge(teamLabels[['gameId', 'teamId', 'win']], on=['gameId', 'teamId'], how='inner')\n",
    "print(badPlayerCountInBadTeam.shape)\n",
    "\n",
    "avgPlayerCountInBadTeam = avgPlayerCountInBadTeam.merge(teamLabels[['gameId', 'teamId', 'win']], on=['gameId', 'teamId'], how='inner')\n",
    "print(avgPlayerCountInBadTeam.shape)"
   ]
  },
  {
   "cell_type": "code",
   "execution_count": 24,
   "metadata": {},
   "outputs": [
    {
     "data": {
      "text/plain": [
       "majorityGoodPlayers\n",
       "False    25132\n",
       "True      1366\n",
       "Name: count, dtype: int64"
      ]
     },
     "execution_count": 24,
     "metadata": {},
     "output_type": "execute_result"
    }
   ],
   "source": [
    "goodPlayerCountInBadTeam['majorityGoodPlayers'].value_counts()"
   ]
  },
  {
   "cell_type": "code",
   "execution_count": 25,
   "metadata": {},
   "outputs": [
    {
     "data": {
      "text/plain": [
       "majorityBadPlayers\n",
       "False    26496\n",
       "True         2\n",
       "Name: count, dtype: int64"
      ]
     },
     "execution_count": 25,
     "metadata": {},
     "output_type": "execute_result"
    }
   ],
   "source": [
    "badPlayerCountInBadTeam['majorityBadPlayers'].value_counts()"
   ]
  },
  {
   "cell_type": "code",
   "execution_count": 26,
   "metadata": {},
   "outputs": [
    {
     "data": {
      "text/plain": [
       "majorityAvgPlayers\n",
       "True     18950\n",
       "False     7548\n",
       "Name: count, dtype: int64"
      ]
     },
     "execution_count": 26,
     "metadata": {},
     "output_type": "execute_result"
    }
   ],
   "source": [
    "avgPlayerCountInBadTeam['majorityAvgPlayers'].value_counts()"
   ]
  },
  {
   "cell_type": "markdown",
   "metadata": {},
   "source": [
    "### How often do bad teams with a majority of good, bad or average players win the game"
   ]
  },
  {
   "cell_type": "code",
   "execution_count": 27,
   "metadata": {},
   "outputs": [
    {
     "data": {
      "text/plain": [
       "win\n",
       "1    747\n",
       "0    619\n",
       "Name: count, dtype: int64"
      ]
     },
     "execution_count": 27,
     "metadata": {},
     "output_type": "execute_result"
    }
   ],
   "source": [
    "goodPlayerCountInBadTeam[goodPlayerCountInBadTeam['majorityGoodPlayers'] == True]['win'].value_counts()"
   ]
  },
  {
   "cell_type": "code",
   "execution_count": 28,
   "metadata": {},
   "outputs": [
    {
     "data": {
      "text/plain": [
       "win\n",
       "0    1\n",
       "1    1\n",
       "Name: count, dtype: int64"
      ]
     },
     "execution_count": 28,
     "metadata": {},
     "output_type": "execute_result"
    }
   ],
   "source": [
    "badPlayerCountInBadTeam[badPlayerCountInBadTeam['majorityBadPlayers'] == True]['win'].value_counts()"
   ]
  },
  {
   "cell_type": "code",
   "execution_count": 29,
   "metadata": {},
   "outputs": [
    {
     "data": {
      "text/plain": [
       "win\n",
       "0    16451\n",
       "1     2499\n",
       "Name: count, dtype: int64"
      ]
     },
     "execution_count": 29,
     "metadata": {},
     "output_type": "execute_result"
    }
   ],
   "source": [
    "avgPlayerCountInBadTeam[avgPlayerCountInBadTeam['majorityAvgPlayers'] == True]['win'].value_counts()"
   ]
  },
  {
   "cell_type": "markdown",
   "metadata": {},
   "source": [
    "## Cross-Analysis for Average teams"
   ]
  },
  {
   "cell_type": "code",
   "execution_count": 30,
   "metadata": {},
   "outputs": [],
   "source": [
    "# good, bad and average player count within average teams\n",
    "goodPlayerCountInAverageTeam = individualInTeamLabels[individualInTeamLabels['isAverageTeam'] == True].groupby(['gameId', 'teamId'])['isGoodPlayer'].sum().reset_index(name='goodPlayersCountInTeam') \n",
    "goodPlayerCountInAverageTeam['majorityGoodPlayers'] = goodPlayerCountInAverageTeam['goodPlayersCountInTeam'] > 2\n",
    "\n",
    "badPlayerCountInAverageTeam = individualInTeamLabels[individualInTeamLabels['isAverageTeam'] == True].groupby(['gameId', 'teamId'])['isBadPlayer'].sum().reset_index(name='badPlayersCountInTeam') \n",
    "badPlayerCountInAverageTeam['majorityBadPlayers'] = badPlayerCountInBadTeam['badPlayersCountInTeam'] > 2\n",
    "\n",
    "avgPlayerCountInAverageTeam = individualInTeamLabels[individualInTeamLabels['isAverageTeam'] == True].groupby(['gameId', 'teamId'])['isAveragePlayer'].sum().reset_index(name='avgPlayersCountInTeam') \n",
    "avgPlayerCountInAverageTeam['majorityAvgPlayers'] = avgPlayerCountInBadTeam['avgPlayersCountInTeam'] > 2"
   ]
  },
  {
   "cell_type": "code",
   "execution_count": 31,
   "metadata": {},
   "outputs": [
    {
     "name": "stdout",
     "output_type": "stream",
     "text": [
      "(7095, 5)\n",
      "(7095, 5)\n",
      "(7095, 5)\n"
     ]
    }
   ],
   "source": [
    "goodPlayerCountInAverageTeam = goodPlayerCountInAverageTeam.merge(teamLabels[['gameId', 'teamId', 'win']], on=['gameId', 'teamId'], how='inner')\n",
    "print(goodPlayerCountInAverageTeam.shape)\n",
    "\n",
    "badPlayerCountInAverageTeam = badPlayerCountInAverageTeam.merge(teamLabels[['gameId', 'teamId', 'win']], on=['gameId', 'teamId'], how='inner')\n",
    "print(badPlayerCountInAverageTeam.shape)\n",
    "\n",
    "avgPlayerCountInAverageTeam = avgPlayerCountInAverageTeam.merge(teamLabels[['gameId', 'teamId', 'win']], on=['gameId', 'teamId'], how='inner')\n",
    "print(avgPlayerCountInAverageTeam.shape)"
   ]
  },
  {
   "cell_type": "code",
   "execution_count": 32,
   "metadata": {},
   "outputs": [
    {
     "data": {
      "text/plain": [
       "majorityGoodPlayers\n",
       "False    7047\n",
       "True       48\n",
       "Name: count, dtype: int64"
      ]
     },
     "execution_count": 32,
     "metadata": {},
     "output_type": "execute_result"
    }
   ],
   "source": [
    "goodPlayerCountInAverageTeam['majorityGoodPlayers'].value_counts()"
   ]
  },
  {
   "cell_type": "code",
   "execution_count": 33,
   "metadata": {},
   "outputs": [
    {
     "data": {
      "text/plain": [
       "majorityBadPlayers\n",
       "False    7095\n",
       "Name: count, dtype: int64"
      ]
     },
     "execution_count": 33,
     "metadata": {},
     "output_type": "execute_result"
    }
   ],
   "source": [
    "badPlayerCountInAverageTeam['majorityBadPlayers'].value_counts()"
   ]
  },
  {
   "cell_type": "code",
   "execution_count": 34,
   "metadata": {},
   "outputs": [
    {
     "data": {
      "text/plain": [
       "majorityAvgPlayers\n",
       "True     5131\n",
       "False    1964\n",
       "Name: count, dtype: int64"
      ]
     },
     "execution_count": 34,
     "metadata": {},
     "output_type": "execute_result"
    }
   ],
   "source": [
    "avgPlayerCountInAverageTeam['majorityAvgPlayers'].value_counts()"
   ]
  },
  {
   "cell_type": "markdown",
   "metadata": {},
   "source": [
    "### How often do average teams with a majority of good, bad or average players win the game"
   ]
  },
  {
   "cell_type": "code",
   "execution_count": 35,
   "metadata": {},
   "outputs": [
    {
     "data": {
      "text/plain": [
       "win\n",
       "0    30\n",
       "1    18\n",
       "Name: count, dtype: int64"
      ]
     },
     "execution_count": 35,
     "metadata": {},
     "output_type": "execute_result"
    }
   ],
   "source": [
    "goodPlayerCountInAverageTeam[goodPlayerCountInAverageTeam['majorityGoodPlayers'] == True]['win'].value_counts()"
   ]
  },
  {
   "cell_type": "code",
   "execution_count": 36,
   "metadata": {},
   "outputs": [
    {
     "data": {
      "text/plain": [
       "Series([], Name: count, dtype: int64)"
      ]
     },
     "execution_count": 36,
     "metadata": {},
     "output_type": "execute_result"
    }
   ],
   "source": [
    "badPlayerCountInAverageTeam[badPlayerCountInAverageTeam['majorityBadPlayers'] == True]['win'].value_counts()"
   ]
  },
  {
   "cell_type": "code",
   "execution_count": 37,
   "metadata": {},
   "outputs": [
    {
     "data": {
      "text/plain": [
       "win\n",
       "0    5000\n",
       "1     131\n",
       "Name: count, dtype: int64"
      ]
     },
     "execution_count": 37,
     "metadata": {},
     "output_type": "execute_result"
    }
   ],
   "source": [
    "avgPlayerCountInAverageTeam[avgPlayerCountInAverageTeam['majorityAvgPlayers'] == True]['win'].value_counts()"
   ]
  }
 ],
 "metadata": {
  "kernelspec": {
   "display_name": "Collective-Intelligence-LoL",
   "language": "python",
   "name": "python3"
  },
  "language_info": {
   "codemirror_mode": {
    "name": "ipython",
    "version": 3
   },
   "file_extension": ".py",
   "mimetype": "text/x-python",
   "name": "python",
   "nbconvert_exporter": "python",
   "pygments_lexer": "ipython3",
   "version": "3.10.12"
  }
 },
 "nbformat": 4,
 "nbformat_minor": 2
}
