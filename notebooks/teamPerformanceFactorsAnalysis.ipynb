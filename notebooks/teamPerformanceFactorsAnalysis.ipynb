{
 "cells": [
  {
   "cell_type": "code",
   "execution_count": 1,
   "metadata": {},
   "outputs": [],
   "source": [
    "# import necessary libraries\n",
    "import pandas as pd\n",
    "import pandas as pd\n",
    "import numpy as np\n",
    "import ast\n",
    "import networkx as nx\n",
    "import matplotlib.pyplot as plt"
   ]
  },
  {
   "cell_type": "code",
   "execution_count": 2,
   "metadata": {},
   "outputs": [],
   "source": [
    "# load the necessary files\n",
    "filteredMatchDetails = pd.read_csv('../dataset/filteredMatchDetails.csv')\n",
    "assistsMapDF = pd.read_csv('../dataset/assistsMap.csv', header=0)"
   ]
  },
  {
   "cell_type": "code",
   "execution_count": 3,
   "metadata": {},
   "outputs": [
    {
     "data": {
      "text/plain": [
       "Index(['gameId', 'gameDuration', 'puuid', 'summonerId', 'teamId', 'win',\n",
       "       'teamPosition', 'champExperience', 'kills', 'assists', 'turretKills',\n",
       "       'epicMonsterKills', 'visionScore', 'visionWardsBoughtInGame',\n",
       "       'magicDamageDealtToChampions', 'deaths', 'totalMinionsKilled',\n",
       "       'timeCCingOthers', 'totalDamageTaken', 'totalHealsOnTeammates',\n",
       "       'totalTimeSpentDead', 'goldEarned', 'objectivesStolen',\n",
       "       'objectivesStolenAssists', 'participantId', 'participantsAssisted',\n",
       "       'towerKillsAssisted', 'monsterKillsAssisted',\n",
       "       'participantsAssistedWithPressure', 'queueType', 'tier', 'rank',\n",
       "       'leaguePoints', 'matchPlayerCounts', 'summonerGamesPlayed', 'tierRank',\n",
       "       'playerNumericalRank', 'matchAverageRank', 'teamAverageRank',\n",
       "       'totalTeamGold', 'totalTeamGPM', 'totalTeamKills', 'totalTeamKPM',\n",
       "       'totalTeamDeaths', 'totalTeamAssists', 'totalTeamAPM',\n",
       "       'totalTeamEpicMonsterKills', 'totalTeamTurretKills',\n",
       "       'totalTeamVisionScore', 'totalTeamVPM', 'averageTeamVisionScore',\n",
       "       'totalTeamChampExperience', 'totalTeamExpPerMin',\n",
       "       'averageTeamChampExperience', 'totalTeamMinionsKilled',\n",
       "       'totalTeamMinionsPerMin', 'averageTeamMinionsKilled', 'totalAssisted',\n",
       "       'assistsCount', 'towerKillsAssistsCount', 'monsterKillsAssistsCount',\n",
       "       'participantsAssistedWithPressureCount', 'allAssistsCount', 'allKills',\n",
       "       'totalTeamAllKills', 'totalTeamAllAssists'],\n",
       "      dtype='object')"
      ]
     },
     "execution_count": 3,
     "metadata": {},
     "output_type": "execute_result"
    }
   ],
   "source": [
    "filteredMatchDetails.columns"
   ]
  },
  {
   "cell_type": "code",
   "execution_count": 4,
   "metadata": {},
   "outputs": [
    {
     "data": {
      "text/plain": [
       "Index(['gameId', 'teamId', 'win', 'teamPosition', 'teamAverageRank',\n",
       "       'matchAverageRank', 'participantId', 'kills', 'deaths', 'assists',\n",
       "       'participantsAssisted', 'towerKillsAssisted', 'monsterKillsAssisted',\n",
       "       'participantsAssistedWithPressure', 'totalAssisted', 'totalTeamKills',\n",
       "       'totalTeamAssists', 'totalTeamTurretKills', 'totalTeamEpicMonsterKills',\n",
       "       'totalTeamAllKills', 'totalTeamAllAssists', 'totalTeamGPM',\n",
       "       'totalTeamKPM', 'totalTeamExpPerMin', 'totalTeamVPM', 'totalTeamAPM',\n",
       "       'totalTeamMinionsPerMin', 'totalAssistsMap', 'playerTotalOutdegree',\n",
       "       'playerTotalIndegree', 'teamMaxIndegree', 'teamTotalIndegree',\n",
       "       'playerDiffMaxTeamIndegree', 'playerDiffMaxTeamIndegreeSum',\n",
       "       'teamIndegreeCentrality', 'teamMaxOutdegree', 'teamTotalOutdegree',\n",
       "       'playerDiffMaxTeamOutdegree', 'playerDiffMaxTeamOutdegreeSum',\n",
       "       'teamOutdegreeCentrality', 'teamWeightCentralization', 'uniqueTeamId',\n",
       "       'resistance'],\n",
       "      dtype='object')"
      ]
     },
     "execution_count": 4,
     "metadata": {},
     "output_type": "execute_result"
    }
   ],
   "source": [
    "assistsMapDF.columns"
   ]
  },
  {
   "cell_type": "code",
   "execution_count": 5,
   "metadata": {},
   "outputs": [
    {
     "name": "stdout",
     "output_type": "stream",
     "text": [
      "Unique team IDs:  62110\n",
      "(310550, 9)\n",
      "(62110, 9)\n",
      "(310550, 5)\n",
      "(62110, 5)\n",
      "(62110, 12)\n"
     ]
    },
    {
     "name": "stderr",
     "output_type": "stream",
     "text": [
      "/tmp/ipykernel_124327/656221265.py:18: SettingWithCopyWarning: \n",
      "A value is trying to be set on a copy of a slice from a DataFrame\n",
      "\n",
      "See the caveats in the documentation: https://pandas.pydata.org/pandas-docs/stable/user_guide/indexing.html#returning-a-view-versus-a-copy\n",
      "  teamAveragePerformanceMetrics.drop_duplicates(inplace=True)\n",
      "/tmp/ipykernel_124327/656221265.py:25: SettingWithCopyWarning: \n",
      "A value is trying to be set on a copy of a slice from a DataFrame\n",
      "\n",
      "See the caveats in the documentation: https://pandas.pydata.org/pandas-docs/stable/user_guide/indexing.html#returning-a-view-versus-a-copy\n",
      "  teamGraphMetrics.drop_duplicates(inplace=True) # drop duplicates, because it also contains individual player level data\n"
     ]
    }
   ],
   "source": [
    "## team average in-game performance metrics\n",
    "\n",
    "filteredMatchDetails['uniqueTeamId'] = filteredMatchDetails['gameId'].astype(str) + '_' + filteredMatchDetails['teamId'].astype(str)\n",
    "filteredMatchDetails['averageTeamKAPM'] = filteredMatchDetails['totalTeamAPM'] / 5 # average kill assists per minute\n",
    "filteredMatchDetails['averageTeamAllAssistsPerMin'] = filteredMatchDetails['totalTeamAllAssists'] / (filteredMatchDetails['gameDuration'] * 5)\n",
    "filteredMatchDetails['averageTeamExpPerMin'] = filteredMatchDetails['totalTeamExpPerMin'] / 5\n",
    "filteredMatchDetails['averageTeamGoldPerMin'] = filteredMatchDetails['totalTeamGPM'] / 5\n",
    "filteredMatchDetails['averageTeamMinionsPerMin'] = filteredMatchDetails['totalTeamMinionsPerMin'] / 5\n",
    "filteredMatchDetails['averageTeamVPM'] = filteredMatchDetails['totalTeamVPM'] / 5\n",
    "filteredMatchDetails['averageTeamGoldPerMin'] = filteredMatchDetails['totalTeamGPM'] / 5\n",
    "\n",
    "print(\"Unique team IDs: \", filteredMatchDetails['uniqueTeamId'].nunique())\n",
    "\n",
    "teamAveragePerformanceMetrics = filteredMatchDetails[['gameId', 'teamId', 'win', 'averageTeamKAPM', 'averageTeamAllAssistsPerMin', 'averageTeamExpPerMin', 'averageTeamGoldPerMin', 'averageTeamMinionsPerMin', 'averageTeamVPM']]\n",
    "print(teamAveragePerformanceMetrics.shape)\n",
    "\n",
    "# the above should contain duplicates because it was originally player level data which was averaged, so we drop duplicates\n",
    "teamAveragePerformanceMetrics.drop_duplicates(inplace=True)\n",
    "print(teamAveragePerformanceMetrics.shape)\n",
    "\n",
    "## team graph metrics\n",
    "teamGraphMetrics = assistsMapDF[['gameId', 'teamId', 'teamIndegreeCentrality', 'teamOutdegreeCentrality', 'resistance']]\n",
    "print(teamGraphMetrics.shape)\n",
    "\n",
    "teamGraphMetrics.drop_duplicates(inplace=True) # drop duplicates, because it also contains individual player level data\n",
    "print(teamGraphMetrics.shape)\n",
    "\n",
    "## merge the two dataframes\n",
    "teamFeatures_df = pd.merge(teamAveragePerformanceMetrics, teamGraphMetrics, on=['gameId', 'teamId'], how='inner')\n",
    "teamFeatures_df['teamIndegreeCentrality'] = teamFeatures_df['teamIndegreeCentrality'].fillna(0)\n",
    "teamFeatures_df['teamOutdegreeCentrality'] = teamFeatures_df['teamOutdegreeCentrality'].fillna(0)\n",
    "teamFeatures_df['resistance'] = teamFeatures_df['resistance'].fillna(0)\n",
    "\n",
    "print(teamFeatures_df.shape)"
   ]
  },
  {
   "cell_type": "code",
   "execution_count": 6,
   "metadata": {},
   "outputs": [
    {
     "name": "stdout",
     "output_type": "stream",
     "text": [
      "Correlation Matrix:\n"
     ]
    },
    {
     "name": "stderr",
     "output_type": "stream",
     "text": [
      "/tmp/ipykernel_124327/3221729789.py:25: FutureWarning: ChainedAssignmentError: behaviour will change in pandas 3.0!\n",
      "You are setting values through chained assignment. Currently this works in certain cases, but when using Copy-on-Write (which will become the default behaviour in pandas 3.0) this will never work to update the original DataFrame or Series, because the intermediate object on which we are setting values will behave as a copy.\n",
      "A typical example is when you are setting values in a column of a DataFrame, like:\n",
      "\n",
      "df[\"col\"][row_indexer] = value\n",
      "\n",
      "Use `df.loc[row_indexer, \"col\"] = values` instead, to perform the assignment in a single step and ensure this keeps updating the original `df`.\n",
      "\n",
      "See the caveats in the documentation: https://pandas.pydata.org/pandas-docs/stable/user_guide/indexing.html#returning-a-view-versus-a-copy\n",
      "\n",
      "  p_values[col1][col2] = np.nan  # NaN for the diagonal\n",
      "/tmp/ipykernel_124327/3221729789.py:28: FutureWarning: ChainedAssignmentError: behaviour will change in pandas 3.0!\n",
      "You are setting values through chained assignment. Currently this works in certain cases, but when using Copy-on-Write (which will become the default behaviour in pandas 3.0) this will never work to update the original DataFrame or Series, because the intermediate object on which we are setting values will behave as a copy.\n",
      "A typical example is when you are setting values in a column of a DataFrame, like:\n",
      "\n",
      "df[\"col\"][row_indexer] = value\n",
      "\n",
      "Use `df.loc[row_indexer, \"col\"] = values` instead, to perform the assignment in a single step and ensure this keeps updating the original `df`.\n",
      "\n",
      "See the caveats in the documentation: https://pandas.pydata.org/pandas-docs/stable/user_guide/indexing.html#returning-a-view-versus-a-copy\n",
      "\n",
      "  p_values[col1][col2] = corr_test[1]  # Extract the p-value\n"
     ]
    },
    {
     "data": {
      "text/html": [
       "<div>\n",
       "<style scoped>\n",
       "    .dataframe tbody tr th:only-of-type {\n",
       "        vertical-align: middle;\n",
       "    }\n",
       "\n",
       "    .dataframe tbody tr th {\n",
       "        vertical-align: top;\n",
       "    }\n",
       "\n",
       "    .dataframe thead th {\n",
       "        text-align: right;\n",
       "    }\n",
       "</style>\n",
       "<table border=\"1\" class=\"dataframe\">\n",
       "  <thead>\n",
       "    <tr style=\"text-align: right;\">\n",
       "      <th></th>\n",
       "      <th>averageTeamKAPM</th>\n",
       "      <th>averageTeamAllAssistsPerMin</th>\n",
       "      <th>averageTeamExpPerMin</th>\n",
       "      <th>averageTeamGoldPerMin</th>\n",
       "      <th>averageTeamMinionsPerMin</th>\n",
       "      <th>averageTeamVPM</th>\n",
       "      <th>teamIndegreeCentrality</th>\n",
       "      <th>teamOutdegreeCentrality</th>\n",
       "      <th>resistance</th>\n",
       "    </tr>\n",
       "  </thead>\n",
       "  <tbody>\n",
       "    <tr>\n",
       "      <th>averageTeamKAPM</th>\n",
       "      <td>1.000000</td>\n",
       "      <td>0.935444</td>\n",
       "      <td>0.558568</td>\n",
       "      <td>0.721986</td>\n",
       "      <td>-0.049764</td>\n",
       "      <td>0.292771</td>\n",
       "      <td>-0.183778</td>\n",
       "      <td>-0.197935</td>\n",
       "      <td>-0.615455</td>\n",
       "    </tr>\n",
       "    <tr>\n",
       "      <th>averageTeamAllAssistsPerMin</th>\n",
       "      <td>0.935444</td>\n",
       "      <td>1.000000</td>\n",
       "      <td>0.658321</td>\n",
       "      <td>0.803360</td>\n",
       "      <td>-0.031586</td>\n",
       "      <td>0.304238</td>\n",
       "      <td>-0.200982</td>\n",
       "      <td>-0.227045</td>\n",
       "      <td>-0.650958</td>\n",
       "    </tr>\n",
       "    <tr>\n",
       "      <th>averageTeamExpPerMin</th>\n",
       "      <td>0.558568</td>\n",
       "      <td>0.658321</td>\n",
       "      <td>1.000000</td>\n",
       "      <td>0.835947</td>\n",
       "      <td>0.301103</td>\n",
       "      <td>0.261681</td>\n",
       "      <td>-0.170162</td>\n",
       "      <td>-0.136020</td>\n",
       "      <td>-0.524268</td>\n",
       "    </tr>\n",
       "    <tr>\n",
       "      <th>averageTeamGoldPerMin</th>\n",
       "      <td>0.721986</td>\n",
       "      <td>0.803360</td>\n",
       "      <td>0.835947</td>\n",
       "      <td>1.000000</td>\n",
       "      <td>0.290587</td>\n",
       "      <td>0.345610</td>\n",
       "      <td>-0.180872</td>\n",
       "      <td>-0.109565</td>\n",
       "      <td>-0.558254</td>\n",
       "    </tr>\n",
       "    <tr>\n",
       "      <th>averageTeamMinionsPerMin</th>\n",
       "      <td>-0.049764</td>\n",
       "      <td>-0.031586</td>\n",
       "      <td>0.301103</td>\n",
       "      <td>0.290587</td>\n",
       "      <td>1.000000</td>\n",
       "      <td>0.348216</td>\n",
       "      <td>0.052068</td>\n",
       "      <td>0.146122</td>\n",
       "      <td>0.068009</td>\n",
       "    </tr>\n",
       "    <tr>\n",
       "      <th>averageTeamVPM</th>\n",
       "      <td>0.292771</td>\n",
       "      <td>0.304238</td>\n",
       "      <td>0.261681</td>\n",
       "      <td>0.345610</td>\n",
       "      <td>0.348216</td>\n",
       "      <td>1.000000</td>\n",
       "      <td>-0.073530</td>\n",
       "      <td>-0.077193</td>\n",
       "      <td>-0.261587</td>\n",
       "    </tr>\n",
       "    <tr>\n",
       "      <th>teamIndegreeCentrality</th>\n",
       "      <td>-0.183778</td>\n",
       "      <td>-0.200982</td>\n",
       "      <td>-0.170162</td>\n",
       "      <td>-0.180872</td>\n",
       "      <td>0.052068</td>\n",
       "      <td>-0.073530</td>\n",
       "      <td>1.000000</td>\n",
       "      <td>0.271777</td>\n",
       "      <td>0.300168</td>\n",
       "    </tr>\n",
       "    <tr>\n",
       "      <th>teamOutdegreeCentrality</th>\n",
       "      <td>-0.197935</td>\n",
       "      <td>-0.227045</td>\n",
       "      <td>-0.136020</td>\n",
       "      <td>-0.109565</td>\n",
       "      <td>0.146122</td>\n",
       "      <td>-0.077193</td>\n",
       "      <td>0.271777</td>\n",
       "      <td>1.000000</td>\n",
       "      <td>0.334834</td>\n",
       "    </tr>\n",
       "    <tr>\n",
       "      <th>resistance</th>\n",
       "      <td>-0.615455</td>\n",
       "      <td>-0.650958</td>\n",
       "      <td>-0.524268</td>\n",
       "      <td>-0.558254</td>\n",
       "      <td>0.068009</td>\n",
       "      <td>-0.261587</td>\n",
       "      <td>0.300168</td>\n",
       "      <td>0.334834</td>\n",
       "      <td>1.000000</td>\n",
       "    </tr>\n",
       "  </tbody>\n",
       "</table>\n",
       "</div>"
      ],
      "text/plain": [
       "                             averageTeamKAPM  averageTeamAllAssistsPerMin  \\\n",
       "averageTeamKAPM                     1.000000                     0.935444   \n",
       "averageTeamAllAssistsPerMin         0.935444                     1.000000   \n",
       "averageTeamExpPerMin                0.558568                     0.658321   \n",
       "averageTeamGoldPerMin               0.721986                     0.803360   \n",
       "averageTeamMinionsPerMin           -0.049764                    -0.031586   \n",
       "averageTeamVPM                      0.292771                     0.304238   \n",
       "teamIndegreeCentrality             -0.183778                    -0.200982   \n",
       "teamOutdegreeCentrality            -0.197935                    -0.227045   \n",
       "resistance                         -0.615455                    -0.650958   \n",
       "\n",
       "                             averageTeamExpPerMin  averageTeamGoldPerMin  \\\n",
       "averageTeamKAPM                          0.558568               0.721986   \n",
       "averageTeamAllAssistsPerMin              0.658321               0.803360   \n",
       "averageTeamExpPerMin                     1.000000               0.835947   \n",
       "averageTeamGoldPerMin                    0.835947               1.000000   \n",
       "averageTeamMinionsPerMin                 0.301103               0.290587   \n",
       "averageTeamVPM                           0.261681               0.345610   \n",
       "teamIndegreeCentrality                  -0.170162              -0.180872   \n",
       "teamOutdegreeCentrality                 -0.136020              -0.109565   \n",
       "resistance                              -0.524268              -0.558254   \n",
       "\n",
       "                             averageTeamMinionsPerMin  averageTeamVPM  \\\n",
       "averageTeamKAPM                             -0.049764        0.292771   \n",
       "averageTeamAllAssistsPerMin                 -0.031586        0.304238   \n",
       "averageTeamExpPerMin                         0.301103        0.261681   \n",
       "averageTeamGoldPerMin                        0.290587        0.345610   \n",
       "averageTeamMinionsPerMin                     1.000000        0.348216   \n",
       "averageTeamVPM                               0.348216        1.000000   \n",
       "teamIndegreeCentrality                       0.052068       -0.073530   \n",
       "teamOutdegreeCentrality                      0.146122       -0.077193   \n",
       "resistance                                   0.068009       -0.261587   \n",
       "\n",
       "                             teamIndegreeCentrality  teamOutdegreeCentrality  \\\n",
       "averageTeamKAPM                           -0.183778                -0.197935   \n",
       "averageTeamAllAssistsPerMin               -0.200982                -0.227045   \n",
       "averageTeamExpPerMin                      -0.170162                -0.136020   \n",
       "averageTeamGoldPerMin                     -0.180872                -0.109565   \n",
       "averageTeamMinionsPerMin                   0.052068                 0.146122   \n",
       "averageTeamVPM                            -0.073530                -0.077193   \n",
       "teamIndegreeCentrality                     1.000000                 0.271777   \n",
       "teamOutdegreeCentrality                    0.271777                 1.000000   \n",
       "resistance                                 0.300168                 0.334834   \n",
       "\n",
       "                             resistance  \n",
       "averageTeamKAPM               -0.615455  \n",
       "averageTeamAllAssistsPerMin   -0.650958  \n",
       "averageTeamExpPerMin          -0.524268  \n",
       "averageTeamGoldPerMin         -0.558254  \n",
       "averageTeamMinionsPerMin       0.068009  \n",
       "averageTeamVPM                -0.261587  \n",
       "teamIndegreeCentrality         0.300168  \n",
       "teamOutdegreeCentrality        0.334834  \n",
       "resistance                     1.000000  "
      ]
     },
     "execution_count": 6,
     "metadata": {},
     "output_type": "execute_result"
    }
   ],
   "source": [
    "# perform correlation tests\n",
    "from patsy import dmatrices\n",
    "from scipy import stats\n",
    "from statsmodels.stats.outliers_influence import variance_inflation_factor\n",
    "\n",
    "# using original set of metrics before, we had share of the match\n",
    "teamPerformance_features = teamFeatures_df[[   \n",
    "    'averageTeamKAPM', 'averageTeamAllAssistsPerMin', 'averageTeamExpPerMin',\n",
    "    'averageTeamGoldPerMin', 'averageTeamMinionsPerMin', 'averageTeamVPM',\n",
    "    'teamIndegreeCentrality', 'teamOutdegreeCentrality', 'resistance'                   \n",
    "]]\n",
    "\n",
    "correlation_matrix = teamPerformance_features.corr()\n",
    "\n",
    "# Function to calculate p-values\n",
    "def correlation_test(x, y):\n",
    "    return stats.pearsonr(x, y)\n",
    "\n",
    "# Calculating p-values\n",
    "p_values = pd.DataFrame(index=teamPerformance_features.columns, columns=teamPerformance_features.columns)\n",
    "\n",
    "for col1 in teamPerformance_features.columns:\n",
    "    for col2 in teamPerformance_features.columns:\n",
    "        if col1 == col2:\n",
    "            p_values[col1][col2] = np.nan  # NaN for the diagonal\n",
    "        else:\n",
    "            corr_test = correlation_test(teamPerformance_features[col1], teamPerformance_features[col2])\n",
    "            p_values[col1][col2] = corr_test[1]  # Extract the p-value\n",
    "\n",
    "# print(p_values)\n",
    "\n",
    "print(\"Correlation Matrix:\")\n",
    "\n",
    "correlation_matrix"
   ]
  },
  {
   "cell_type": "markdown",
   "metadata": {},
   "source": [
    "<span style=\"color: green;\"> Above correlation analysis shows that kills assists is highly correlated with all assists for the team. So we remove that from our variable consideration </span>"
   ]
  },
  {
   "cell_type": "code",
   "execution_count": 7,
   "metadata": {},
   "outputs": [
    {
     "name": "stdout",
     "output_type": "stream",
     "text": [
      "(62110, 6)\n"
     ]
    },
    {
     "name": "stderr",
     "output_type": "stream",
     "text": [
      "/tmp/ipykernel_124327/1062523468.py:1: SettingWithCopyWarning: \n",
      "A value is trying to be set on a copy of a slice from a DataFrame\n",
      "\n",
      "See the caveats in the documentation: https://pandas.pydata.org/pandas-docs/stable/user_guide/indexing.html#returning-a-view-versus-a-copy\n",
      "  teamPerformance_features.drop(['averageTeamKAPM', 'averageTeamAllAssistsPerMin', 'averageTeamMinionsPerMin'], axis=1, inplace=True)\n"
     ]
    }
   ],
   "source": [
    "teamPerformance_features.drop(['averageTeamKAPM', 'averageTeamAllAssistsPerMin', 'averageTeamMinionsPerMin'], axis=1, inplace=True)\n",
    "print(teamPerformance_features.shape)"
   ]
  },
  {
   "cell_type": "markdown",
   "metadata": {},
   "source": [
    "### VIF on player performance features"
   ]
  },
  {
   "cell_type": "code",
   "execution_count": 8,
   "metadata": {},
   "outputs": [
    {
     "name": "stdout",
     "output_type": "stream",
     "text": [
      "                  features         VIF\n",
      "0     averageTeamExpPerMin  312.366835\n",
      "1    averageTeamGoldPerMin  338.230975\n",
      "2           averageTeamVPM   28.704464\n",
      "3   teamIndegreeCentrality    6.279906\n",
      "4  teamOutdegreeCentrality    6.806554\n",
      "5               resistance    2.632753\n"
     ]
    }
   ],
   "source": [
    "# Perform VIF test on player performance features\n",
    "from statsmodels.stats.outliers_influence import variance_inflation_factor\n",
    "import statsmodels.api as sm \n",
    "\n",
    "# Add a constant for the intercept\n",
    "X = sm.add_constant(teamPerformance_features)\n",
    "\n",
    "# Compute VIF for each variable\n",
    "vif_data = pd.DataFrame()\n",
    "vif_data['features'] = teamPerformance_features.columns\n",
    "vif_data['VIF'] = [ variance_inflation_factor(teamPerformance_features.values, i) for i in range(teamPerformance_features.shape[1]) ]\n",
    "\n",
    "print(vif_data)"
   ]
  },
  {
   "cell_type": "markdown",
   "metadata": {},
   "source": [
    "<span style=\"color: green;\">VIF test doesn't yield good results; all average metrics have VIF value > 5 when considering with 3 graph metrics + any other team average performance metrics"
   ]
  },
  {
   "cell_type": "markdown",
   "metadata": {},
   "source": [
    "### Scree analysis to detect number of factors"
   ]
  },
  {
   "cell_type": "code",
   "execution_count": 9,
   "metadata": {},
   "outputs": [],
   "source": [
    "from sklearn.decomposition import FactorAnalysis\n",
    "from sklearn.preprocessing import StandardScaler\n",
    "from sklearn.decomposition import PCA"
   ]
  },
  {
   "cell_type": "code",
   "execution_count": 10,
   "metadata": {},
   "outputs": [
    {
     "data": {
      "image/png": "[encoded data removed]",
      "text/plain": [
       "<Figure size 500x500 with 1 Axes>"
      ]
     },
     "metadata": {},
     "output_type": "display_data"
    }
   ],
   "source": [
    "# scale features\n",
    "scaler = StandardScaler()\n",
    "features_scaled = scaler.fit_transform(teamPerformance_features)\n",
    "\n",
    "pca = PCA()\n",
    "pca.fit(features_scaled)\n",
    "\n",
    "\n",
    "# Plot the Scree Plot\n",
    "plt.figure(figsize=(5,5))\n",
    "plt.plot(np.arange(1, len(pca.explained_variance_)+1), pca.explained_variance_, marker='o')\n",
    "plt.axhline(y=1, color='r', linestyle='--')\n",
    "plt.text(0.55, 1.05, 'Kaiser Threshold', color='black', fontsize=12)\n",
    "plt.title('Scree Plot for Team Level Features')\n",
    "plt.xlabel('Number of Components')\n",
    "plt.ylabel('Eigenvalue')\n",
    "plt.grid(axis='both', alpha=0.1)\n",
    "plt.xlim(0, 6.1)\n",
    "plt.show()"
   ]
  },
  {
   "cell_type": "markdown",
   "metadata": {},
   "source": [
    "<span style=\"color:green;\"> Scree analysis suggests optimal number of latent factors to be 2</span>"
   ]
  },
  {
   "cell_type": "markdown",
   "metadata": {},
   "source": [
    "### KMO test to check for suitability of Factor analysis"
   ]
  },
  {
   "cell_type": "code",
   "execution_count": 11,
   "metadata": {},
   "outputs": [
    {
     "name": "stdout",
     "output_type": "stream",
     "text": [
      "KMO Overall: 0.6891\n",
      "Individual KMO values:\n",
      " [0.64441694 0.62811565 0.82517065 0.77096904 0.63647265 0.82314779]\n"
     ]
    }
   ],
   "source": [
    "# performing KMO test on the dataset to see if dataframe is suitable for factor analysis\n",
    "from factor_analyzer import calculate_kmo\n",
    "\n",
    "kmo_all, kmo_model = calculate_kmo(features_scaled)\n",
    "\n",
    "# Print the results\n",
    "print(f\"KMO Overall: {kmo_model:.4f}\")\n",
    "\n",
    "# If you want to see individual KMO values for each variable:\n",
    "print(\"Individual KMO values:\\n\", kmo_all)"
   ]
  },
  {
   "cell_type": "markdown",
   "metadata": {},
   "source": [
    "<span style=\"color:yellow;\"> Overall KMO Value for team-level data is 0.69 which is considerably good for factor analysis</span>"
   ]
  },
  {
   "cell_type": "code",
   "execution_count": 12,
   "metadata": {},
   "outputs": [],
   "source": [
    "# Perform Factor Analysis\n",
    "fa = FactorAnalysis(n_components=2, rotation='varimax', max_iter=2000)  # Adjust n_components based on Scree Plot; making the number of components as 2, because we dont see a good distinction of features with 3 latent factors\n",
    "fa.fit(features_scaled)\n",
    "factor_loadings = fa.components_.T\n",
    "\n",
    "# factor loadings for each feature column\n",
    "loadings_df = pd.DataFrame(factor_loadings, index=teamPerformance_features.columns, columns=[f'Factor{i+1}' for i in range(factor_loadings.shape[1])])\n",
    "\n",
    "# compute factor scores\n",
    "factor_scores = fa.transform(features_scaled)\n",
    "factor_scores_df = pd.DataFrame(factor_scores, columns=[f'Factor{i+1}' for i in range(factor_scores.shape[1])])"
   ]
  },
  {
   "cell_type": "code",
   "execution_count": 13,
   "metadata": {},
   "outputs": [
    {
     "data": {
      "text/html": [
       "<div>\n",
       "<style scoped>\n",
       "    .dataframe tbody tr th:only-of-type {\n",
       "        vertical-align: middle;\n",
       "    }\n",
       "\n",
       "    .dataframe tbody tr th {\n",
       "        vertical-align: top;\n",
       "    }\n",
       "\n",
       "    .dataframe thead th {\n",
       "        text-align: right;\n",
       "    }\n",
       "</style>\n",
       "<table border=\"1\" class=\"dataframe\">\n",
       "  <thead>\n",
       "    <tr style=\"text-align: right;\">\n",
       "      <th></th>\n",
       "      <th>Factor1</th>\n",
       "      <th>Factor2</th>\n",
       "    </tr>\n",
       "  </thead>\n",
       "  <tbody>\n",
       "    <tr>\n",
       "      <th>averageTeamExpPerMin</th>\n",
       "      <td>-0.840376</td>\n",
       "      <td>-0.131060</td>\n",
       "    </tr>\n",
       "    <tr>\n",
       "      <th>averageTeamGoldPerMin</th>\n",
       "      <td>-0.983613</td>\n",
       "      <td>-0.069922</td>\n",
       "    </tr>\n",
       "    <tr>\n",
       "      <th>averageTeamVPM</th>\n",
       "      <td>-0.341423</td>\n",
       "      <td>-0.103194</td>\n",
       "    </tr>\n",
       "    <tr>\n",
       "      <th>teamIndegreeCentrality</th>\n",
       "      <td>0.151792</td>\n",
       "      <td>0.430343</td>\n",
       "    </tr>\n",
       "    <tr>\n",
       "      <th>teamOutdegreeCentrality</th>\n",
       "      <td>0.069633</td>\n",
       "      <td>0.585924</td>\n",
       "    </tr>\n",
       "    <tr>\n",
       "      <th>resistance</th>\n",
       "      <td>0.532036</td>\n",
       "      <td>0.515258</td>\n",
       "    </tr>\n",
       "  </tbody>\n",
       "</table>\n",
       "</div>"
      ],
      "text/plain": [
       "                          Factor1   Factor2\n",
       "averageTeamExpPerMin    -0.840376 -0.131060\n",
       "averageTeamGoldPerMin   -0.983613 -0.069922\n",
       "averageTeamVPM          -0.341423 -0.103194\n",
       "teamIndegreeCentrality   0.151792  0.430343\n",
       "teamOutdegreeCentrality  0.069633  0.585924\n",
       "resistance               0.532036  0.515258"
      ]
     },
     "execution_count": 13,
     "metadata": {},
     "output_type": "execute_result"
    }
   ],
   "source": [
    "loadings_df"
   ]
  },
  {
   "cell_type": "markdown",
   "metadata": {},
   "source": [
    "<span style=\"color:green;\">The loading factors suggest that they can be separated as `cooperative` vs `non co-operative`. as in centralization and non-centralization of resources</span>"
   ]
  },
  {
   "cell_type": "code",
   "execution_count": 14,
   "metadata": {},
   "outputs": [
    {
     "data": {
      "text/html": [
       "<div>\n",
       "<style scoped>\n",
       "    .dataframe tbody tr th:only-of-type {\n",
       "        vertical-align: middle;\n",
       "    }\n",
       "\n",
       "    .dataframe tbody tr th {\n",
       "        vertical-align: top;\n",
       "    }\n",
       "\n",
       "    .dataframe thead th {\n",
       "        text-align: right;\n",
       "    }\n",
       "</style>\n",
       "<table border=\"1\" class=\"dataframe\">\n",
       "  <thead>\n",
       "    <tr style=\"text-align: right;\">\n",
       "      <th></th>\n",
       "      <th>CooperativeFactor</th>\n",
       "      <th>NonCooperativeFactor</th>\n",
       "    </tr>\n",
       "  </thead>\n",
       "  <tbody>\n",
       "    <tr>\n",
       "      <th>averageTeamExpPerMin</th>\n",
       "      <td>-0.840376</td>\n",
       "      <td>-0.131060</td>\n",
       "    </tr>\n",
       "    <tr>\n",
       "      <th>averageTeamGoldPerMin</th>\n",
       "      <td>-0.983613</td>\n",
       "      <td>-0.069922</td>\n",
       "    </tr>\n",
       "    <tr>\n",
       "      <th>averageTeamVPM</th>\n",
       "      <td>-0.341423</td>\n",
       "      <td>-0.103194</td>\n",
       "    </tr>\n",
       "    <tr>\n",
       "      <th>teamIndegreeCentrality</th>\n",
       "      <td>0.151792</td>\n",
       "      <td>0.430343</td>\n",
       "    </tr>\n",
       "    <tr>\n",
       "      <th>teamOutdegreeCentrality</th>\n",
       "      <td>0.069633</td>\n",
       "      <td>0.585924</td>\n",
       "    </tr>\n",
       "    <tr>\n",
       "      <th>resistance</th>\n",
       "      <td>0.532036</td>\n",
       "      <td>0.515258</td>\n",
       "    </tr>\n",
       "  </tbody>\n",
       "</table>\n",
       "</div>"
      ],
      "text/plain": [
       "                         CooperativeFactor  NonCooperativeFactor\n",
       "averageTeamExpPerMin             -0.840376             -0.131060\n",
       "averageTeamGoldPerMin            -0.983613             -0.069922\n",
       "averageTeamVPM                   -0.341423             -0.103194\n",
       "teamIndegreeCentrality            0.151792              0.430343\n",
       "teamOutdegreeCentrality           0.069633              0.585924\n",
       "resistance                        0.532036              0.515258"
      ]
     },
     "execution_count": 14,
     "metadata": {},
     "output_type": "execute_result"
    }
   ],
   "source": [
    "loadings_df.rename(columns={'Factor1': 'CooperativeFactor', 'Factor2': 'NonCooperativeFactor'}, inplace=True)\n",
    "loadings_df"
   ]
  },
  {
   "cell_type": "code",
   "execution_count": 15,
   "metadata": {},
   "outputs": [
    {
     "name": "stdout",
     "output_type": "stream",
     "text": [
      "(62110, 2)\n"
     ]
    }
   ],
   "source": [
    "# rename columns for better understanding\n",
    "factor_scores_df.rename(columns={'Factor1': 'CooperativeFactor', 'Factor2': 'NonCooperativeFactor'}, inplace=True)\n",
    "print(factor_scores_df.shape)\n"
   ]
  },
  {
   "cell_type": "code",
   "execution_count": 16,
   "metadata": {},
   "outputs": [
    {
     "name": "stdout",
     "output_type": "stream",
     "text": [
      "(62110, 11)\n"
     ]
    },
    {
     "data": {
      "text/html": [
       "<div>\n",
       "<style scoped>\n",
       "    .dataframe tbody tr th:only-of-type {\n",
       "        vertical-align: middle;\n",
       "    }\n",
       "\n",
       "    .dataframe tbody tr th {\n",
       "        vertical-align: top;\n",
       "    }\n",
       "\n",
       "    .dataframe thead th {\n",
       "        text-align: right;\n",
       "    }\n",
       "</style>\n",
       "<table border=\"1\" class=\"dataframe\">\n",
       "  <thead>\n",
       "    <tr style=\"text-align: right;\">\n",
       "      <th></th>\n",
       "      <th>gameId</th>\n",
       "      <th>teamId</th>\n",
       "      <th>win</th>\n",
       "      <th>averageTeamExpPerMin</th>\n",
       "      <th>averageTeamGoldPerMin</th>\n",
       "      <th>averageTeamVPM</th>\n",
       "      <th>teamIndegreeCentrality</th>\n",
       "      <th>teamOutdegreeCentrality</th>\n",
       "      <th>resistance</th>\n",
       "      <th>CooperativeFactor</th>\n",
       "      <th>NonCooperativeFactor</th>\n",
       "    </tr>\n",
       "  </thead>\n",
       "  <tbody>\n",
       "    <tr>\n",
       "      <th>0</th>\n",
       "      <td>EUW1_7139824479</td>\n",
       "      <td>100</td>\n",
       "      <td>0</td>\n",
       "      <td>439.862735</td>\n",
       "      <td>367.2</td>\n",
       "      <td>0.926542</td>\n",
       "      <td>0.227941</td>\n",
       "      <td>0.080882</td>\n",
       "      <td>0.6500</td>\n",
       "      <td>0.731456</td>\n",
       "      <td>-0.738828</td>\n",
       "    </tr>\n",
       "    <tr>\n",
       "      <th>1</th>\n",
       "      <td>EUW1_7139824479</td>\n",
       "      <td>200</td>\n",
       "      <td>1</td>\n",
       "      <td>451.058445</td>\n",
       "      <td>387.8</td>\n",
       "      <td>0.701340</td>\n",
       "      <td>0.204545</td>\n",
       "      <td>0.172078</td>\n",
       "      <td>0.5907</td>\n",
       "      <td>0.201695</td>\n",
       "      <td>-0.065562</td>\n",
       "    </tr>\n",
       "    <tr>\n",
       "      <th>2</th>\n",
       "      <td>EUW1_7140549083</td>\n",
       "      <td>100</td>\n",
       "      <td>0</td>\n",
       "      <td>416.710163</td>\n",
       "      <td>380.4</td>\n",
       "      <td>0.971142</td>\n",
       "      <td>0.240196</td>\n",
       "      <td>0.142157</td>\n",
       "      <td>1.0599</td>\n",
       "      <td>0.419814</td>\n",
       "      <td>0.016391</td>\n",
       "    </tr>\n",
       "    <tr>\n",
       "      <th>3</th>\n",
       "      <td>EUW1_7140549083</td>\n",
       "      <td>200</td>\n",
       "      <td>1</td>\n",
       "      <td>544.592221</td>\n",
       "      <td>500.6</td>\n",
       "      <td>1.069009</td>\n",
       "      <td>0.174757</td>\n",
       "      <td>0.065534</td>\n",
       "      <td>0.4496</td>\n",
       "      <td>-2.502744</td>\n",
       "      <td>-0.102221</td>\n",
       "    </tr>\n",
       "    <tr>\n",
       "      <th>4</th>\n",
       "      <td>EUW1_7139855952</td>\n",
       "      <td>100</td>\n",
       "      <td>1</td>\n",
       "      <td>497.323814</td>\n",
       "      <td>423.4</td>\n",
       "      <td>1.199388</td>\n",
       "      <td>0.173729</td>\n",
       "      <td>0.067797</td>\n",
       "      <td>1.0129</td>\n",
       "      <td>-0.656660</td>\n",
       "      <td>-0.414528</td>\n",
       "    </tr>\n",
       "    <tr>\n",
       "      <th>...</th>\n",
       "      <td>...</td>\n",
       "      <td>...</td>\n",
       "      <td>...</td>\n",
       "      <td>...</td>\n",
       "      <td>...</td>\n",
       "      <td>...</td>\n",
       "      <td>...</td>\n",
       "      <td>...</td>\n",
       "      <td>...</td>\n",
       "      <td>...</td>\n",
       "      <td>...</td>\n",
       "    </tr>\n",
       "    <tr>\n",
       "      <th>62105</th>\n",
       "      <td>EUW1_7139969225</td>\n",
       "      <td>200</td>\n",
       "      <td>0</td>\n",
       "      <td>403.150485</td>\n",
       "      <td>352.6</td>\n",
       "      <td>0.851942</td>\n",
       "      <td>0.312500</td>\n",
       "      <td>0.125000</td>\n",
       "      <td>3.3925</td>\n",
       "      <td>1.052832</td>\n",
       "      <td>1.058529</td>\n",
       "    </tr>\n",
       "    <tr>\n",
       "      <th>62106</th>\n",
       "      <td>EUW1_7142645284</td>\n",
       "      <td>100</td>\n",
       "      <td>1</td>\n",
       "      <td>513.742765</td>\n",
       "      <td>414.2</td>\n",
       "      <td>0.964630</td>\n",
       "      <td>0.158163</td>\n",
       "      <td>0.119898</td>\n",
       "      <td>0.4297</td>\n",
       "      <td>-0.477343</td>\n",
       "      <td>-0.496168</td>\n",
       "    </tr>\n",
       "    <tr>\n",
       "      <th>62107</th>\n",
       "      <td>EUW1_7142645284</td>\n",
       "      <td>200</td>\n",
       "      <td>0</td>\n",
       "      <td>391.157556</td>\n",
       "      <td>297.4</td>\n",
       "      <td>0.836013</td>\n",
       "      <td>0.375000</td>\n",
       "      <td>0.125000</td>\n",
       "      <td>4.6447</td>\n",
       "      <td>2.322292</td>\n",
       "      <td>1.371913</td>\n",
       "    </tr>\n",
       "    <tr>\n",
       "      <th>62108</th>\n",
       "      <td>EUW1_7139963823</td>\n",
       "      <td>100</td>\n",
       "      <td>0</td>\n",
       "      <td>460.963983</td>\n",
       "      <td>393.4</td>\n",
       "      <td>1.302966</td>\n",
       "      <td>0.172535</td>\n",
       "      <td>0.059859</td>\n",
       "      <td>0.6575</td>\n",
       "      <td>0.099316</td>\n",
       "      <td>-0.860070</td>\n",
       "    </tr>\n",
       "    <tr>\n",
       "      <th>62109</th>\n",
       "      <td>EUW1_7139963823</td>\n",
       "      <td>200</td>\n",
       "      <td>1</td>\n",
       "      <td>483.635593</td>\n",
       "      <td>421.0</td>\n",
       "      <td>1.671610</td>\n",
       "      <td>0.290541</td>\n",
       "      <td>0.111486</td>\n",
       "      <td>0.5978</td>\n",
       "      <td>-0.631088</td>\n",
       "      <td>-0.198584</td>\n",
       "    </tr>\n",
       "  </tbody>\n",
       "</table>\n",
       "<p>62110 rows × 11 columns</p>\n",
       "</div>"
      ],
      "text/plain": [
       "                gameId  teamId  win  averageTeamExpPerMin  \\\n",
       "0      EUW1_7139824479     100    0            439.862735   \n",
       "1      EUW1_7139824479     200    1            451.058445   \n",
       "2      EUW1_7140549083     100    0            416.710163   \n",
       "3      EUW1_7140549083     200    1            544.592221   \n",
       "4      EUW1_7139855952     100    1            497.323814   \n",
       "...                ...     ...  ...                   ...   \n",
       "62105  EUW1_7139969225     200    0            403.150485   \n",
       "62106  EUW1_7142645284     100    1            513.742765   \n",
       "62107  EUW1_7142645284     200    0            391.157556   \n",
       "62108  EUW1_7139963823     100    0            460.963983   \n",
       "62109  EUW1_7139963823     200    1            483.635593   \n",
       "\n",
       "       averageTeamGoldPerMin  averageTeamVPM  teamIndegreeCentrality  \\\n",
       "0                      367.2        0.926542                0.227941   \n",
       "1                      387.8        0.701340                0.204545   \n",
       "2                      380.4        0.971142                0.240196   \n",
       "3                      500.6        1.069009                0.174757   \n",
       "4                      423.4        1.199388                0.173729   \n",
       "...                      ...             ...                     ...   \n",
       "62105                  352.6        0.851942                0.312500   \n",
       "62106                  414.2        0.964630                0.158163   \n",
       "62107                  297.4        0.836013                0.375000   \n",
       "62108                  393.4        1.302966                0.172535   \n",
       "62109                  421.0        1.671610                0.290541   \n",
       "\n",
       "       teamOutdegreeCentrality  resistance  CooperativeFactor  \\\n",
       "0                     0.080882      0.6500           0.731456   \n",
       "1                     0.172078      0.5907           0.201695   \n",
       "2                     0.142157      1.0599           0.419814   \n",
       "3                     0.065534      0.4496          -2.502744   \n",
       "4                     0.067797      1.0129          -0.656660   \n",
       "...                        ...         ...                ...   \n",
       "62105                 0.125000      3.3925           1.052832   \n",
       "62106                 0.119898      0.4297          -0.477343   \n",
       "62107                 0.125000      4.6447           2.322292   \n",
       "62108                 0.059859      0.6575           0.099316   \n",
       "62109                 0.111486      0.5978          -0.631088   \n",
       "\n",
       "       NonCooperativeFactor  \n",
       "0                 -0.738828  \n",
       "1                 -0.065562  \n",
       "2                  0.016391  \n",
       "3                 -0.102221  \n",
       "4                 -0.414528  \n",
       "...                     ...  \n",
       "62105              1.058529  \n",
       "62106             -0.496168  \n",
       "62107              1.371913  \n",
       "62108             -0.860070  \n",
       "62109             -0.198584  \n",
       "\n",
       "[62110 rows x 11 columns]"
      ]
     },
     "execution_count": 16,
     "metadata": {},
     "output_type": "execute_result"
    }
   ],
   "source": [
    "## concatenate the factor scores df with the player performance features\n",
    "win_info = teamFeatures_df[['gameId', 'teamId', 'win']]\n",
    "factors_with_win_info = pd.concat([win_info, teamPerformance_features, factor_scores_df], axis=1)\n",
    "print(factors_with_win_info.shape)\n",
    "factors_with_win_info"
   ]
  },
  {
   "cell_type": "code",
   "execution_count": 17,
   "metadata": {},
   "outputs": [
    {
     "data": {
      "text/plain": [
       "gameId                     0\n",
       "teamId                     0\n",
       "win                        0\n",
       "averageTeamExpPerMin       0\n",
       "averageTeamGoldPerMin      0\n",
       "averageTeamVPM             0\n",
       "teamIndegreeCentrality     0\n",
       "teamOutdegreeCentrality    0\n",
       "resistance                 0\n",
       "CooperativeFactor          0\n",
       "NonCooperativeFactor       0\n",
       "dtype: int64"
      ]
     },
     "execution_count": 17,
     "metadata": {},
     "output_type": "execute_result"
    }
   ],
   "source": [
    "# check for NA values\n",
    "factors_with_win_info.isna().sum()"
   ]
  },
  {
   "cell_type": "markdown",
   "metadata": {},
   "source": [
    "### Fitting and prediction using team level factor metrics"
   ]
  },
  {
   "cell_type": "code",
   "execution_count": 18,
   "metadata": {},
   "outputs": [],
   "source": [
    "import pandas as pd\n",
    "import matplotlib.pyplot as plt\n",
    "import seaborn as sns\n",
    "from sklearn.model_selection import train_test_split\n",
    "from sklearn.preprocessing import StandardScaler\n",
    "from sklearn.linear_model import LogisticRegression\n",
    "from sklearn.metrics import accuracy_score, confusion_matrix, classification_report"
   ]
  },
  {
   "cell_type": "code",
   "execution_count": 19,
   "metadata": {},
   "outputs": [
    {
     "name": "stdout",
     "output_type": "stream",
     "text": [
      "Training set distribution:\n",
      "win\n",
      "0      0.5\n",
      "1      0.5\n",
      "Name: proportion, dtype: float64\n",
      "\n",
      "Test set distribution:\n",
      "win\n",
      "0      0.5\n",
      "1      0.5\n",
      "Name: proportion, dtype: float64\n"
     ]
    }
   ],
   "source": [
    "# splitting games into train-test split; \n",
    "# we use an additional filter at the top to ensure that both train-test have same number number of win outcomes, sampling equally!\n",
    "\n",
    "X = factors_with_win_info[['CooperativeFactor', 'NonCooperativeFactor']]\n",
    "y = factors_with_win_info[['win']]\n",
    "\n",
    "# perform startified sampling to ensure equal distribution of win outcomes\n",
    "X_train, X_test, y_train, y_test = train_test_split(X, y, test_size=0.2, random_state=42, stratify=y)\n",
    "\n",
    "# Verify the distribution\n",
    "print(\"Training set distribution:\")\n",
    "print(y_train.value_counts(normalize=True))\n",
    "\n",
    "print(\"\\nTest set distribution:\")\n",
    "print(y_test.value_counts(normalize=True))\n",
    "\n",
    "features_names = X_train.columns"
   ]
  },
  {
   "cell_type": "markdown",
   "metadata": {},
   "source": [
    "### Binary Logistic Regression"
   ]
  },
  {
   "cell_type": "code",
   "execution_count": 20,
   "metadata": {},
   "outputs": [],
   "source": [
    "# check for results with and without scaling\n",
    "# Scaling data features to avoid model skewing; performing scaling may not be necessary, because we have transformed the data!\n",
    "scaler = StandardScaler()\n",
    "X_train_scaled = scaler.fit_transform(X_train)\n",
    "X_test_scaled = scaler.transform(X_test) "
   ]
  },
  {
   "cell_type": "code",
   "execution_count": 21,
   "metadata": {},
   "outputs": [
    {
     "name": "stdout",
     "output_type": "stream",
     "text": [
      "{'CooperativeFactor': np.float64(-3.8791735896925372), 'NonCooperativeFactor': np.float64(-0.8223250974466799)}\n"
     ]
    },
    {
     "name": "stderr",
     "output_type": "stream",
     "text": [
      "/home/sajana/Collective-Intelligence-LoL/lib/python3.10/site-packages/sklearn/utils/validation.py:1339: DataConversionWarning: A column-vector y was passed when a 1d array was expected. Please change the shape of y to (n_samples, ), for example using ravel().\n",
      "  y = column_or_1d(y, warn=True)\n"
     ]
    }
   ],
   "source": [
    "# Fit the model\n",
    "model = LogisticRegression(solver='lbfgs', max_iter=400)\n",
    "model.fit(X_train, y_train) # use X_train_scaled to fit instead\n",
    "\n",
    "features_names = X_train.columns\n",
    "coefficients = model.coef_\n",
    "importances = coefficients[0]\n",
    "blr_feature_importances = dict(zip(features_names, importances))\n",
    "print(blr_feature_importances)\n",
    "\n",
    "y_pred = model.predict(X_test)"
   ]
  },
  {
   "cell_type": "code",
   "execution_count": 22,
   "metadata": {},
   "outputs": [
    {
     "name": "stdout",
     "output_type": "stream",
     "text": [
      "Optimization terminated successfully.\n",
      "         Current function value: 0.270775\n",
      "         Iterations 8\n",
      "                           Logit Regression Results                           \n",
      "==============================================================================\n",
      "Dep. Variable:                    win   No. Observations:                49688\n",
      "Model:                          Logit   Df Residuals:                    49685\n",
      "Method:                           MLE   Df Model:                            2\n",
      "Date:                Mon, 13 Jan 2025   Pseudo R-squ.:                  0.6094\n",
      "Time:                        21:58:01   Log-Likelihood:                -13454.\n",
      "converged:                       True   LL-Null:                       -34441.\n",
      "Covariance Type:            nonrobust   LLR p-value:                     0.000\n",
      "========================================================================================\n",
      "                           coef    std err          z      P>|z|      [0.025      0.975]\n",
      "----------------------------------------------------------------------------------------\n",
      "const                   -0.2072      0.017    -12.416      0.000      -0.240      -0.175\n",
      "CooperativeFactor       -3.8858      0.035   -109.654      0.000      -3.955      -3.816\n",
      "NonCooperativeFactor    -0.8241      0.029    -28.724      0.000      -0.880      -0.768\n",
      "========================================================================================\n"
     ]
    }
   ],
   "source": [
    "# p-values using statsmodels\n",
    "import statsmodels.api as sm\n",
    "X = sm.add_constant(X_train) # adding a constant intercept term\n",
    "logit_model = sm.Logit(y_train, X).fit()\n",
    "print(logit_model.summary())"
   ]
  },
  {
   "cell_type": "code",
   "execution_count": 23,
   "metadata": {},
   "outputs": [
    {
     "name": "stdout",
     "output_type": "stream",
     "text": [
      "{'CooperativeFactor': np.float64(-3.8791735896925372), 'NonCooperativeFactor': np.float64(-0.8223250974466799)}\n",
      "Accuracy: 0.8734503300595717\n",
      "Confusion Matrix:\n",
      " [[5347  864]\n",
      " [ 708 5503]]\n",
      "Classification Report:\n",
      "               precision    recall  f1-score   support\n",
      "\n",
      "           0       0.88      0.86      0.87      6211\n",
      "           1       0.86      0.89      0.88      6211\n",
      "\n",
      "    accuracy                           0.87     12422\n",
      "   macro avg       0.87      0.87      0.87     12422\n",
      "weighted avg       0.87      0.87      0.87     12422\n",
      "\n"
     ]
    }
   ],
   "source": [
    "# Calculate accuracy\n",
    "accuracy = accuracy_score(y_test, y_pred)\n",
    "\n",
    "# Calculate confusion matrix\n",
    "conf_matrix = confusion_matrix(y_test, y_pred)\n",
    "\n",
    "# Calculate classification report\n",
    "class_report = classification_report(y_test, y_pred)\n",
    "\n",
    "print(blr_feature_importances)\n",
    "print('Accuracy:', accuracy)\n",
    "print('Confusion Matrix:\\n', conf_matrix)\n",
    "print('Classification Report:\\n', class_report)"
   ]
  },
  {
   "cell_type": "markdown",
   "metadata": {},
   "source": [
    "### Decision Tree Classifier"
   ]
  },
  {
   "cell_type": "code",
   "execution_count": 24,
   "metadata": {},
   "outputs": [
    {
     "name": "stdout",
     "output_type": "stream",
     "text": [
      "{'CooperativeFactor': np.float64(0.8195813956735594), 'NonCooperativeFactor': np.float64(0.18041860432644055)}\n",
      "Accuracy: 0.8260344549991949\n",
      "Confusion Matrix:\n",
      " [[5104 1107]\n",
      " [1054 5157]]\n",
      "Classification Report:\n",
      "               precision    recall  f1-score   support\n",
      "\n",
      "           0       0.83      0.82      0.83      6211\n",
      "           1       0.82      0.83      0.83      6211\n",
      "\n",
      "    accuracy                           0.83     12422\n",
      "   macro avg       0.83      0.83      0.83     12422\n",
      "weighted avg       0.83      0.83      0.83     12422\n",
      "\n"
     ]
    }
   ],
   "source": [
    "from sklearn.tree import DecisionTreeClassifier\n",
    "\n",
    "dtmodel = DecisionTreeClassifier()\n",
    "dtmodel.fit(X_train, y_train)\n",
    "dt_importances = dtmodel.feature_importances_\n",
    "feature_importances = dict(zip(features_names, dt_importances))\n",
    "\n",
    "\n",
    "dt_y_pred = dtmodel.predict(X_test)\n",
    "\n",
    "# Calculate accuracy\n",
    "accuracy = accuracy_score(y_test, dt_y_pred)\n",
    "\n",
    "# Calculate confusion matrix\n",
    "conf_matrix = confusion_matrix(y_test, dt_y_pred)\n",
    "\n",
    "# Calculate classification report\n",
    "class_report = classification_report(y_test, dt_y_pred)\n",
    "\n",
    "print(feature_importances)\n",
    "print('Accuracy:', accuracy)\n",
    "print('Confusion Matrix:\\n', conf_matrix)\n",
    "print('Classification Report:\\n', class_report)"
   ]
  },
  {
   "cell_type": "markdown",
   "metadata": {},
   "source": [
    "### Random Forest Classifier"
   ]
  },
  {
   "cell_type": "code",
   "execution_count": 25,
   "metadata": {},
   "outputs": [
    {
     "name": "stderr",
     "output_type": "stream",
     "text": [
      "/home/sajana/Collective-Intelligence-LoL/lib/python3.10/site-packages/sklearn/base.py:1473: DataConversionWarning: A column-vector y was passed when a 1d array was expected. Please change the shape of y to (n_samples,), for example using ravel().\n",
      "  return fit_method(estimator, *args, **kwargs)\n"
     ]
    },
    {
     "name": "stdout",
     "output_type": "stream",
     "text": [
      "{'CooperativeFactor': np.float64(0.9536063106847937), 'NonCooperativeFactor': np.float64(0.04639368931520628)}\n",
      "RF Accuracy: 0.873369827725004\n",
      "RF Confusion Matrix:\n",
      " [[5318  893]\n",
      " [ 680 5531]]\n",
      "RF Classification Report:\n",
      "               precision    recall  f1-score   support\n",
      "\n",
      "           0       0.89      0.86      0.87      6211\n",
      "           1       0.86      0.89      0.88      6211\n",
      "\n",
      "    accuracy                           0.87     12422\n",
      "   macro avg       0.87      0.87      0.87     12422\n",
      "weighted avg       0.87      0.87      0.87     12422\n",
      "\n"
     ]
    }
   ],
   "source": [
    "from sklearn.ensemble import RandomForestClassifier\n",
    "\n",
    "rfmodel = RandomForestClassifier(n_estimators=16, max_depth=8, bootstrap=True)\n",
    "rfmodel.fit(X_train, y_train)\n",
    "rf_importances = rfmodel.feature_importances_ \n",
    "rf_feature_importances = dict(zip(features_names, rf_importances))\n",
    "rf_y_pred = rfmodel.predict(X_test)\n",
    "\n",
    "# Calculate accuracy\n",
    "accuracy = accuracy_score(y_test, rf_y_pred)\n",
    "\n",
    "# Calculate confusion matrix\n",
    "conf_matrix = confusion_matrix(y_test, rf_y_pred)\n",
    "\n",
    "# Calculate classification report\n",
    "class_report = classification_report(y_test, rf_y_pred)\n",
    "\n",
    "print(rf_feature_importances)\n",
    "print('RF Accuracy:', accuracy)\n",
    "print('RF Confusion Matrix:\\n', conf_matrix)\n",
    "print('RF Classification Report:\\n', class_report)"
   ]
  },
  {
   "cell_type": "markdown",
   "metadata": {},
   "source": [
    "### XG Boosting"
   ]
  },
  {
   "cell_type": "code",
   "execution_count": 26,
   "metadata": {},
   "outputs": [
    {
     "name": "stdout",
     "output_type": "stream",
     "text": [
      "{'CooperativeFactor': np.float32(0.97146803), 'NonCooperativeFactor': np.float32(0.028531987)}\n",
      "XGB Accuracy: 0.8730478183867332\n",
      "XGB Confusion Matrix:\n",
      " [[5294  917]\n",
      " [ 660 5551]]\n",
      "XGB Classification Report:\n",
      "               precision    recall  f1-score   support\n",
      "\n",
      "           0       0.89      0.85      0.87      6211\n",
      "           1       0.86      0.89      0.88      6211\n",
      "\n",
      "    accuracy                           0.87     12422\n",
      "   macro avg       0.87      0.87      0.87     12422\n",
      "weighted avg       0.87      0.87      0.87     12422\n",
      "\n"
     ]
    }
   ],
   "source": [
    "import xgboost as xgb\n",
    "\n",
    "xgb_model = xgb.XGBClassifier(\n",
    "    objective = 'binary:logistic',\n",
    "    n_estimators = 100,\n",
    "    eval_metric='logloss',\n",
    "    learning_rate = 0.05\n",
    ")\n",
    "\n",
    "xgb_model.fit(X_train, y_train)\n",
    "xgb_importances = xgb_model.feature_importances_ \n",
    "xgb_feature_importances = dict(zip(features_names, xgb_importances))\n",
    "\n",
    "xgb_y_pred = xgb_model.predict(X_test)\n",
    "\n",
    "# Calculate accuracy\n",
    "accuracy = accuracy_score(y_test, xgb_y_pred)\n",
    "\n",
    "# Calculate confusion matrix\n",
    "conf_matrix = confusion_matrix(y_test, xgb_y_pred)\n",
    "\n",
    "# Calculate classification report\n",
    "class_report = classification_report(y_test, xgb_y_pred)\n",
    "\n",
    "print(xgb_feature_importances)\n",
    "print('XGB Accuracy:', accuracy)\n",
    "print('XGB Confusion Matrix:\\n', conf_matrix)\n",
    "print('XGB Classification Report:\\n', class_report)"
   ]
  },
  {
   "cell_type": "code",
   "execution_count": 27,
   "metadata": {},
   "outputs": [
    {
     "data": {
      "text/html": [
       "<div>\n",
       "<style scoped>\n",
       "    .dataframe tbody tr th:only-of-type {\n",
       "        vertical-align: middle;\n",
       "    }\n",
       "\n",
       "    .dataframe tbody tr th {\n",
       "        vertical-align: top;\n",
       "    }\n",
       "\n",
       "    .dataframe thead th {\n",
       "        text-align: right;\n",
       "    }\n",
       "</style>\n",
       "<table border=\"1\" class=\"dataframe\">\n",
       "  <thead>\n",
       "    <tr style=\"text-align: right;\">\n",
       "      <th></th>\n",
       "      <th>Model Name</th>\n",
       "      <th>ri_CooperativeFactor</th>\n",
       "      <th>ri_NonCooperativeFactor</th>\n",
       "      <th>normalized_ri_CooperativeFactor</th>\n",
       "      <th>normalized_ri_NonCooperativeFactor</th>\n",
       "    </tr>\n",
       "  </thead>\n",
       "  <tbody>\n",
       "    <tr>\n",
       "      <th>0</th>\n",
       "      <td>Binary Logistic Regression</td>\n",
       "      <td>-3.879174</td>\n",
       "      <td>-0.822325</td>\n",
       "      <td>0.825093</td>\n",
       "      <td>0.174907</td>\n",
       "    </tr>\n",
       "    <tr>\n",
       "      <th>1</th>\n",
       "      <td>Decision Tree</td>\n",
       "      <td>0.819581</td>\n",
       "      <td>0.180419</td>\n",
       "      <td>0.819581</td>\n",
       "      <td>0.180419</td>\n",
       "    </tr>\n",
       "    <tr>\n",
       "      <th>2</th>\n",
       "      <td>Random Forest</td>\n",
       "      <td>0.953606</td>\n",
       "      <td>0.046394</td>\n",
       "      <td>0.953606</td>\n",
       "      <td>0.046394</td>\n",
       "    </tr>\n",
       "    <tr>\n",
       "      <th>3</th>\n",
       "      <td>XGBoost</td>\n",
       "      <td>0.971468</td>\n",
       "      <td>0.028532</td>\n",
       "      <td>0.971468</td>\n",
       "      <td>0.028532</td>\n",
       "    </tr>\n",
       "  </tbody>\n",
       "</table>\n",
       "</div>"
      ],
      "text/plain": [
       "                   Model Name  ri_CooperativeFactor  ri_NonCooperativeFactor  \\\n",
       "0  Binary Logistic Regression             -3.879174                -0.822325   \n",
       "1               Decision Tree              0.819581                 0.180419   \n",
       "2               Random Forest              0.953606                 0.046394   \n",
       "3                     XGBoost              0.971468                 0.028532   \n",
       "\n",
       "   normalized_ri_CooperativeFactor  normalized_ri_NonCooperativeFactor  \n",
       "0                         0.825093                            0.174907  \n",
       "1                         0.819581                            0.180419  \n",
       "2                         0.953606                            0.046394  \n",
       "3                         0.971468                            0.028532  "
      ]
     },
     "execution_count": 27,
     "metadata": {},
     "output_type": "execute_result"
    }
   ],
   "source": [
    "# Store the feature importance values of each model into a dataframe\n",
    "data = {\n",
    "    'Model Name': ['Binary Logistic Regression', 'Decision Tree', 'Random Forest', 'XGBoost'],\n",
    "    'ri_CooperativeFactor': [\n",
    "        float(blr_feature_importances['CooperativeFactor']),\n",
    "        float(feature_importances['CooperativeFactor']),\n",
    "        float(rf_feature_importances['CooperativeFactor']),\n",
    "        float(xgb_feature_importances['CooperativeFactor'])\n",
    "    ],\n",
    "    'ri_NonCooperativeFactor': [\n",
    "        float(blr_feature_importances['NonCooperativeFactor']),\n",
    "        float(feature_importances['NonCooperativeFactor']),\n",
    "        float(rf_feature_importances['NonCooperativeFactor']),\n",
    "        float(xgb_feature_importances['NonCooperativeFactor'])\n",
    "    ]\n",
    "}\n",
    "\n",
    "feature_importance_df = pd.DataFrame(data)\n",
    "\n",
    "feature_importance_df['normalized_ri_CooperativeFactor'] = feature_importance_df['ri_CooperativeFactor'] / (feature_importance_df['ri_CooperativeFactor'] + feature_importance_df['ri_NonCooperativeFactor'])\n",
    "feature_importance_df['normalized_ri_NonCooperativeFactor'] = feature_importance_df['ri_NonCooperativeFactor'] / (feature_importance_df['ri_CooperativeFactor'] + feature_importance_df['ri_NonCooperativeFactor'])\n",
    "\n",
    "feature_importance_df"
   ]
  },
  {
   "cell_type": "code",
   "execution_count": 28,
   "metadata": {},
   "outputs": [],
   "source": [
    "# export feature importance of indivdiual analysis to csv files\n",
    "feature_importance_df.to_csv('../dataset/feature_importance_collective_analysis.csv', index=False)"
   ]
  },
  {
   "cell_type": "markdown",
   "metadata": {},
   "source": [
    "### Identifying the number of clusters using Elbow method, Silhouette Score and Davies-Bouldin Score"
   ]
  },
  {
   "cell_type": "code",
   "execution_count": null,
   "metadata": {},
   "outputs": [],
   "source": [
    "## Using the Elbow method\n",
    "from sklearn.cluster import KMeans\n",
    "from kneed import KneeLocator\n",
    "from sklearn.metrics import silhouette_score, davies_bouldin_score\n",
    "\n",
    "silhouette_scores = []\n",
    "db_scores = []\n",
    "\n",
    "inertia = []\n",
    "K = range(2, 11)\n",
    "for k in K:\n",
    "    kmeans = KMeans(n_clusters=k, random_state=12, n_init=10, max_iter=16)\n",
    "    labels = kmeans.fit_predict(factor_scores_df)\n",
    "    inertia.append(kmeans.inertia_)\n",
    "    silhouette_scores.append(silhouette_score(factor_scores_df, labels))\n",
    "    db_scores.append(davies_bouldin_score(factor_scores_df, labels))\n",
    "\n",
    "# plotting the elbow curve\n",
    "plt.plot(K, inertia, 'bo-')\n",
    "plt.xlabel('Number of clusters')\n",
    "plt.ylabel('Inertia')\n",
    "plt.title('Elbow Method')\n",
    "plt.show()\n",
    "\n",
    "# Plotting the Silhouette scores\n",
    "plt.plot(K, silhouette_scores, 'bo-')\n",
    "plt.xlabel('Number of clusters')\n",
    "plt.ylabel('Silhouette Score')\n",
    "plt.title('Silhouette Score Method')\n",
    "plt.show()\n",
    "\n",
    "# Plotting the Davies-Bouldin scores\n",
    "plt.plot(K, db_scores, 'bo-')\n",
    "plt.xlabel('Number of clusters')\n",
    "plt.ylabel('Davies-Bouldin Index')\n",
    "plt.title('Davies-Bouldin Index Method')\n",
    "plt.show()\n",
    "\n",
    "## Use knee locator to identify the elbow point if the graph visually doesn't make sense\n",
    "kl = KneeLocator(K, inertia, curve='convex', direction='decreasing')\n",
    "print(kl.elbow)"
   ]
  },
  {
   "cell_type": "code",
   "execution_count": null,
   "metadata": {},
   "outputs": [],
   "source": [
    "num_clusters = 4\n",
    "kmeans = KMeans(n_clusters=num_clusters, random_state=42, n_init=10, max_iter=16)\n",
    "kmeans.fit(factor_scores_df)\n",
    "\n",
    "factor_scores_with_individuals['inidividual_labels'] = kmeans.labels_\n",
    "\n",
    "factor_scores_with_individuals"
   ]
  },
  {
   "cell_type": "code",
   "execution_count": null,
   "metadata": {},
   "outputs": [],
   "source": [
    "def labelTeam(team_type):\n",
    "    if team_type == 0:\n",
    "        return 'Alpha'\n",
    "    elif team_type == 1:\n",
    "        return 'Beta'\n",
    "    elif team_type == 2:\n",
    "        return 'Gamma'\n",
    "    else:\n",
    "        return 'Delta'\n",
    "    \n",
    "factor_scores_with_individuals['individual_class'] = factor_scores_with_individuals['inidividual_labels'].apply(labelTeam)\n",
    "factor_scores_with_individuals"
   ]
  },
  {
   "cell_type": "code",
   "execution_count": null,
   "metadata": {},
   "outputs": [],
   "source": [
    "individual_groupings = factor_scores_with_individuals[['gameId', 'teamId', 'participantId', 'win', 'individual_class']]\n",
    "individual_groupings.rename(columns={'win': 'individual_win'}, inplace=True)\n",
    "\n",
    "individual_groupings"
   ]
  },
  {
   "cell_type": "code",
   "execution_count": null,
   "metadata": {},
   "outputs": [],
   "source": [
    "# join the indvidual groupings df with team groupings df\n",
    "team_groupings = pd.read_csv('./team_groupings.csv')\n",
    "team_groupings"
   ]
  },
  {
   "cell_type": "code",
   "execution_count": null,
   "metadata": {},
   "outputs": [],
   "source": [
    "individual_with_team_groupings = individual_groupings.merge(team_groupings, on=['gameId', 'teamId'], how='inner')\n",
    "individual_with_team_groupings['sanity_check'] = individual_with_team_groupings['individual_win'] == individual_with_team_groupings['team_win']\n",
    "individual_with_team_groupings"
   ]
  },
  {
   "cell_type": "code",
   "execution_count": null,
   "metadata": {},
   "outputs": [],
   "source": [
    "individual_with_team_groupings['sanity_check'].value_counts()"
   ]
  }
 ],
 "metadata": {
  "kernelspec": {
   "display_name": "Collective-Intelligence-LoL",
   "language": "python",
   "name": "python3"
  },
  "language_info": {
   "codemirror_mode": {
    "name": "ipython",
    "version": 3
   },
   "file_extension": ".py",
   "mimetype": "text/x-python",
   "name": "python",
   "nbconvert_exporter": "python",
   "pygments_lexer": "ipython3",
   "version": "3.10.12"
  }
 },
 "nbformat": 4,
 "nbformat_minor": 2
}
